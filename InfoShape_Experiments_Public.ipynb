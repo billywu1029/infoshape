{
 "cells": [
  {
   "cell_type": "markdown",
   "metadata": {
    "id": "zeD0xsZt2eIw"
   },
   "source": [
    "# **InfoShape Experiments** \n",
    "#### Bill Wu\n",
    "\n",
    "\n",
    "### All experiments for our InfoShape [paper](https://arxiv.org/abs/2210.15034) are included here.\n",
    "\n",
    "---------------------------------------\n",
    "\n",
    "Abstract:\n",
    "\n",
    "_The use of mutual information as a tool in private data sharing has remained an open challenge due to the difficulty of its estimation in practice. In this paper, we propose InfoShape, a task-based encoder that aims to remove unnecessary sensitive information from training data while maintaining enough relevant information for a particular ML training task. We achieve this goal by utilizing mutual information estimators that are based on neural networks, in order to measure two performance metrics, privacy and utility. Using these together in a Lagrangian optimization, we train a separate neural network as a lossy encoder. We empirically show that InfoShape is capable of shaping the encoded samples to be informative for a specific downstream task while eliminating unnecessary sensitive information. Moreover, we demonstrate that the classification accuracy of downstream models has a meaningful connection with our utility and privacy measures._\n",
    "\n",
    "---------------------------------------\n",
    "\n",
    "Current Infoshape [repository](https://github.com/billywu1029/infoshape).\n",
    "\n",
    "Original [thesis work](https://github.com/billywu1029/mine-pytorch).\n",
    "\n",
    "[MINE Paper](https://arxiv.org/pdf/1801.04062.pdf)\n",
    "\n",
    "- Original [MINE repository](https://github.com/gtegner/mine-pytorch), thanks to [Gustaf Tegner](https://github.com/gtegner).\n",
    "\n",
    "[ReMINE Paper](https://openreview.net/forum?id=Lvb2BKqL49a)\n",
    "\n",
    "Theoretical Materials on MI Variational Bounds [paper](https://arxiv.org/pdf/1905.06922.pdf) (potential future direction).\n",
    "\n",
    "- Their google [colab notebook](https://colab.research.google.com/github/google-research/google-research/blob/master/vbmi/vbmi_demo.ipynb).\n"
   ]
  },
  {
   "cell_type": "markdown",
   "metadata": {
    "id": "IviekQYTt-9Q"
   },
   "source": [
    "### High Level Organization\n",
    "1. Code Setup (MINE library, constants, classifier training procedure, evaluation criteria, model setup)\n",
    "2. Synthetic Data Setup\n",
    "3. Experiments\n",
    "  - Classifier performance on original unencoded data (both public and sensitive features)\n",
    "  - Calculate Entropy of both the public and sensitive labelling functions, H(L(X)) and H(S(X)), respectively (Figure 3 upper bounds in the paper).\n",
    "  - Classifier performance on data transformed by an untrained encoder (both public and sensitive labels)\n",
    "  - Use InfoShape to train the encoder via dual optimization of utility score and privacy leakage.\n",
    "  - Reevaluate classifier performance on data transformed by the _trained_ encoder (both public and sensitive labels)\n",
    "  - Compare classification results to hypothetical baseline of adding Gaussian noise to input data (mimicking simple Differential Privacy)"
   ]
  },
  {
   "cell_type": "markdown",
   "metadata": {
    "id": "-G5jfCuKpxpz"
   },
   "source": [
    "# **1. Code Setup**"
   ]
  },
  {
   "cell_type": "markdown",
   "metadata": {
    "id": "QSZFlAtRp3k1"
   },
   "source": [
    "### Imports"
   ]
  },
  {
   "cell_type": "code",
   "execution_count": null,
   "metadata": {
    "colab": {
     "base_uri": "https://localhost:8080/"
    },
    "id": "e0K1zabm2uo9",
    "outputId": "73f9c229-f036-4bf5-f54b-8e53fc19870f"
   },
   "outputs": [],
   "source": [
    "import torch\n",
    "import numpy as np\n",
    "import matplotlib.pyplot as plt\n",
    "from mpl_toolkits import mplot3d\n",
    "from mine.datasets import MultivariateNormalDataset\n",
    "import json\n",
    "\n",
    "!pip install pytorch_lightning\n",
    "import pytorch_lightning\n",
    "\n",
    "from tqdm import tqdm\n",
    "from pytorch_lightning import Trainer, seed_everything\n",
    "\n",
    "import torch.nn as nn\n",
    "from torch.nn import functional as F\n",
    "\n",
    "import time\n",
    "import logging\n",
    "logging.getLogger().setLevel(logging.ERROR)\n",
    "\n",
    "from pytorch_lightning.loggers import TensorBoardLogger\n",
    "from torch.utils.data import Dataset\n",
    "from torch.utils.data import DataLoader, RandomSampler\n",
    "\n",
    "from sklearn.metrics import auc, roc_curve, roc_auc_score\n",
    "from sklearn.datasets import make_classification\n",
    "from sklearn.model_selection import train_test_split\n",
    "\n",
    "from mine import MutualInformationEstimator\n",
    "from mine import Mine"
   ]
  },
  {
   "cell_type": "markdown",
   "metadata": {
    "id": "QgsHINzQ3AW3"
   },
   "source": [
    "### Set GPU Device and Set Seed"
   ]
  },
  {
   "cell_type": "code",
   "execution_count": null,
   "metadata": {
    "colab": {
     "base_uri": "https://localhost:8080/"
    },
    "id": "aQn70til286a",
    "outputId": "c2d0e11c-c900-4dcc-b68a-20514eaf9684"
   },
   "outputs": [],
   "source": [
    "device = 'cuda' if torch.cuda.is_available() else 'cpu'\n",
    "num_gpus = 1 if device=='cuda' else 0\n",
    "print(device)\n",
    "\n",
    "seed = 1\n",
    "seed_everything(seed, workers=True)\n",
    "# Torch RNG\n",
    "torch.manual_seed(seed)\n",
    "torch.cuda.manual_seed(seed)\n",
    "torch.cuda.manual_seed_all(seed)\n",
    "# Numpy RNG\n",
    "np.random.seed(seed)"
   ]
  },
  {
   "cell_type": "markdown",
   "metadata": {
    "id": "qVIe7QREvle9"
   },
   "source": [
    "### Constants"
   ]
  },
  {
   "cell_type": "code",
   "execution_count": null,
   "metadata": {
    "id": "rp0hHqg6vk9V"
   },
   "outputs": [],
   "source": [
    "SAVE_PATH = \"data/\"  # Location for saved classification results\n",
    "ENC_SAVE_PATH = \"model/\"  # Location for saving encoder weights per training epoch\n",
    "BETA = 1  # Used for the Lagrangian optimization in the loss term for InfoShape, ie I(Z; L(X)) - BETA * I(Z; S(X))\n",
    "MINE_BATCH_SIZE = 2000  # batch size for loading dataset into MINE\n",
    "N_ENC_OUT_NODES = 3  # Number of output nodes in InfoShape's encoder's output layer\n",
    "N_CLASSIFIER_TRAINING_EPOCHS = 50"
   ]
  },
  {
   "cell_type": "markdown",
   "metadata": {
    "id": "aszN8dS5rqcb"
   },
   "source": [
    "### Classifier and Encoder Setup"
   ]
  },
  {
   "cell_type": "code",
   "execution_count": null,
   "metadata": {
    "id": "wXuP5U5pppCj"
   },
   "outputs": [],
   "source": [
    "class DenseClassifier(nn.Module):\n",
    "    def __init__(self, in_nodes, hidden_nodes=20):\n",
    "        super(DenseClassifier, self).__init__()\n",
    "        self.main = nn.Sequential(\n",
    "            nn.Linear(in_nodes, hidden_nodes), \n",
    "            nn.ReLU(), \n",
    "            nn.Linear(hidden_nodes, hidden_nodes),\n",
    "            nn.ReLU(),\n",
    "            nn.Linear(hidden_nodes, 1), \n",
    "            nn.Sigmoid()\n",
    "        )\n",
    "\n",
    "    def forward(self, x):\n",
    "        x = x.to(device)\n",
    "        return self.main(x)\n",
    "\n",
    "    def train_classifier(self, train_loader, epochs=N_CLASSIFIER_TRAINING_EPOCHS):\n",
    "        optimizer = torch.optim.SGD(self.parameters(), lr=1e-4, momentum=0.9)\n",
    "        for epoch in tqdm(range(epochs)):\n",
    "            self.train()\n",
    "            train_loss = 0\n",
    "            for x, y in train_loader:\n",
    "                x, y = x.to(device).float(), y.to(device).float()\n",
    "                y_hat = self(x).squeeze()\n",
    "                loss = F.binary_cross_entropy(y_hat, y, reduction=\"sum\")\n",
    "                train_loss += loss.item()\n",
    "                optimizer.zero_grad()\n",
    "                loss.backward()\n",
    "                optimizer.step()\n",
    "\n",
    "            # Average loss per image\n",
    "            # If avg loss per pixel, divide again by inp_dim * inp_dim\n",
    "            avg_train_loss = train_loss / len(train_loader.dataset)\n",
    "            print(f'====> Epoch: {epoch} Average loss: {avg_train_loss:.4f}')\n",
    "\n",
    "    def evaluate(self, test_loader, experiment_save_file=None):\n",
    "        self.eval()\n",
    "        test_data, test_labels = test_loader.dataset.data.float(), test_loader.dataset.targets.float()\n",
    "        preds = self(test_data).squeeze()\n",
    "        y_true = test_labels.detach().cpu().numpy()\n",
    "        y_score = preds.detach().cpu().numpy()\n",
    "\n",
    "        fpr, tpr, thresholds = roc_curve(y_true, y_score)\n",
    "        auc = roc_auc_score(y_true, y_score)\n",
    "        print(f\"AUC: {auc:.4f}\")\n",
    "\n",
    "        test_loss = F.binary_cross_entropy(preds, test_labels.to(device))\n",
    "        print(test_loss.shape, test_loss)\n",
    "        print(f\"====> Test loss: {test_loss:.4f}\")\n",
    "\n",
    "        if experiment_save_file is not None:\n",
    "            with open(SAVE_PATH + experiment_save_file, \"w\") as f:\n",
    "                json.dump({\"fpr\": fpr.tolist(), \"tpr\": tpr.tolist(), \"thresholds\": thresholds.tolist()}, f)\n",
    "\n",
    "        plt.plot(fpr, tpr, marker='.')\n",
    "        plt.ylabel('True Positive Rate')\n",
    "        plt.xlabel('False Positive Rate' )\n",
    "        plt.show()\n",
    "\n",
    "class DenseEncoder(nn.Module):\n",
    "    def __init__(self, in_dim, hidden_nodes=10, out_nodes=N_ENC_OUT_NODES):\n",
    "        super(DenseEncoder, self).__init__()\n",
    "        in_nodes = in_dim[0]\n",
    "        self.out_nodes = out_nodes\n",
    "        self.main = nn.Sequential(\n",
    "            # Want 2 layers for more nonlinearity in the encoded data\n",
    "            nn.Linear(in_nodes, hidden_nodes),\n",
    "            nn.Tanh(),\n",
    "            nn.Linear(hidden_nodes, out_nodes),\n",
    "            nn.Tanh(),\n",
    "        )\n",
    "\n",
    "    def forward(self, x):\n",
    "        x = x.to(device)\n",
    "        return self.main(x)"
   ]
  },
  {
   "cell_type": "markdown",
   "metadata": {
    "id": "l-ZoQaL4FZdk"
   },
   "source": [
    "# **2. Dataset Setup**"
   ]
  },
  {
   "cell_type": "code",
   "execution_count": null,
   "metadata": {
    "id": "fQWr9C8prEAM"
   },
   "outputs": [],
   "source": [
    "class SyntheticDataset(Dataset):\n",
    "    def __init__(self, data, targets):\n",
    "        self.data = data\n",
    "        self.targets = targets\n",
    "        \n",
    "    def __getitem__(self, index):\n",
    "        x = self.data[index]\n",
    "        y = self.targets[index]\n",
    "        return x, y\n",
    "    \n",
    "    def __len__(self):\n",
    "        return len(self.data)"
   ]
  },
  {
   "cell_type": "code",
   "execution_count": null,
   "metadata": {
    "colab": {
     "base_uri": "https://localhost:8080/"
    },
    "id": "tnBHqlDYo0pG",
    "outputId": "9f081a8a-8d21-450e-eb4a-9fd96b5845e3"
   },
   "outputs": [],
   "source": [
    "N_SAMPLES = 10000\n",
    "BATCH_SIZE = 100\n",
    "N_FEATURES = 10\n",
    "\n",
    "# Used to apply Gaussian noise on inputs X to show that both ROCs of public and\n",
    "# sensitive label classification go down towards our ROC on classification on Z\n",
    "ADD_GAUSSIAN_NOISE = True  # Set to True if testing noise experiment\n",
    "MU = 0\n",
    "VARIANCE = 1\n",
    "STDDEV = VARIANCE ** 0.5\n",
    "\n",
    "# defaults: n_informative=2, n_redundant=2, n_classes=2, shuffle=True\n",
    "# -> 2 primary features, 2 linear combinations of them, and the rest are random noise\n",
    "# binary labels for each feature\n",
    "X, y = make_classification(n_samples=N_SAMPLES, n_features=N_FEATURES, n_informative=3, n_classes=4, random_state=seed, class_sep=1)\n",
    "\n",
    "if ADD_GAUSSIAN_NOISE:\n",
    "    noise_matrix = np.zeros_like(X)\n",
    "    for i in range(N_SAMPLES):\n",
    "        # Done for each sample -> gaussians are independent\n",
    "        noise_matrix[i] = np.random.normal(MU, STDDEV, N_FEATURES)\n",
    "        if i == 0 or i == N_SAMPLES - 1:\n",
    "            print(noise_matrix[i])\n",
    "    X += noise_matrix\n",
    "\n",
    "# X: (N_SAMPLES, N_FEATURES), Y: (N_SAMPLES, )\n",
    "X_train, X_test, y_train, y_test = train_test_split(X, y, test_size=0.2, random_state=seed)\n",
    "\n",
    "# Public label set\n",
    "y_train_pub = np.where(y_train // 2 == 0, np.ones(y_train.shape), np.zeros_like(y_train))\n",
    "y_train_pri = np.where(y_train % 2 == 0, np.ones(y_train.shape), np.zeros_like(y_train))\n",
    "y_test_pub = np.where(y_test // 2 == 0, np.ones(y_test.shape), np.zeros_like(y_test))\n",
    "y_test_pri = np.where(y_test % 2 == 0, np.ones(y_test.shape), np.zeros_like(y_test))\n",
    "\n",
    "train_dataset_pub = SyntheticDataset(torch.from_numpy(X_train), torch.from_numpy(y_train_pub))\n",
    "test_dataset_pub = SyntheticDataset(torch.from_numpy(X_test), torch.from_numpy(y_test_pub))\n",
    "train_dataset_pri = SyntheticDataset(torch.from_numpy(X_train), torch.from_numpy(y_train_pri))\n",
    "test_dataset_pri = SyntheticDataset(torch.from_numpy(X_test), torch.from_numpy(y_test_pri))\n",
    "\n",
    "train_loader_pub = DataLoader(train_dataset_pub, batch_size=BATCH_SIZE, shuffle=True)\n",
    "test_loader_pub = DataLoader(test_dataset_pub, batch_size=BATCH_SIZE, shuffle=True)\n",
    "train_loader_pri = DataLoader(train_dataset_pri, batch_size=BATCH_SIZE, shuffle=True)\n",
    "test_loader_pri = DataLoader(test_dataset_pri, batch_size=BATCH_SIZE, shuffle=True)"
   ]
  },
  {
   "cell_type": "code",
   "execution_count": null,
   "metadata": {
    "colab": {
     "base_uri": "https://localhost:8080/"
    },
    "id": "t_Iob2M1ctJb",
    "outputId": "c5a6ad2b-1ace-4f64-f399-d2dfc4ae5507"
   },
   "outputs": [],
   "source": [
    "y_train_pub[:10]"
   ]
  },
  {
   "cell_type": "code",
   "execution_count": null,
   "metadata": {
    "colab": {
     "base_uri": "https://localhost:8080/"
    },
    "id": "teYAyrYOimlP",
    "outputId": "2a036ad7-1b55-4b0b-9877-e8ef9e84207f"
   },
   "outputs": [],
   "source": [
    "y_train_pri[:10]"
   ]
  },
  {
   "cell_type": "markdown",
   "metadata": {
    "id": "JWIjTleMF2si"
   },
   "source": [
    "### Visualize Data Points"
   ]
  },
  {
   "cell_type": "markdown",
   "metadata": {
    "id": "hwT2U6Rxglq0"
   },
   "source": [
    "Public Labels"
   ]
  },
  {
   "cell_type": "code",
   "execution_count": null,
   "metadata": {
    "colab": {
     "base_uri": "https://localhost:8080/",
     "height": 271
    },
    "id": "7IH8vy9jgqIC",
    "outputId": "98d017b5-0f59-46c0-91b5-9ff24e95bcc9"
   },
   "outputs": [],
   "source": [
    "fig = plt.figure()\n",
    "ax = plt.axes(projection='3d')\n",
    "ax.scatter3D(train_dataset_pub.data[:,0], train_dataset_pub.data[:,1], train_dataset_pub.data[:,2], c=train_dataset_pub.targets)"
   ]
  },
  {
   "cell_type": "markdown",
   "metadata": {
    "id": "geHxmAJYglq1"
   },
   "source": [
    "Private Labels"
   ]
  },
  {
   "cell_type": "code",
   "execution_count": null,
   "metadata": {
    "colab": {
     "base_uri": "https://localhost:8080/",
     "height": 271
    },
    "id": "ZzCyB7wFgrgk",
    "outputId": "79ef8a74-ff4f-4299-a642-8f72606d47cc"
   },
   "outputs": [],
   "source": [
    "fig = plt.figure()\n",
    "ax = plt.axes(projection='3d')\n",
    "ax.scatter3D(train_dataset_pri.data[:,0], train_dataset_pri.data[:,1], train_dataset_pri.data[:,2], c=train_dataset_pri.targets)"
   ]
  },
  {
   "cell_type": "markdown",
   "metadata": {
    "id": "DJzPZr33FydI"
   },
   "source": [
    "# **3. Experiments**"
   ]
  },
  {
   "cell_type": "markdown",
   "metadata": {
    "id": "4dLfj4yzF_SR"
   },
   "source": [
    "### Initial Classification\n",
    "This establishes a sample baseline for what both an honest researcher for a downstream AI task as well a malicious adversary could accomplish. "
   ]
  },
  {
   "cell_type": "markdown",
   "metadata": {
    "id": "0Ndr0TWQG8bW"
   },
   "source": [
    "##### Public Labels"
   ]
  },
  {
   "cell_type": "code",
   "execution_count": null,
   "metadata": {
    "colab": {
     "base_uri": "https://localhost:8080/"
    },
    "id": "pvTNklFxp7Nf",
    "outputId": "6974e6ef-845f-48be-868c-3eff2d220de1"
   },
   "outputs": [],
   "source": [
    "# Using a very simple dense classifier for now as a proof of concept. \n",
    "model = DenseClassifier(N_FEATURES).to(device)\n",
    "model"
   ]
  },
  {
   "cell_type": "code",
   "execution_count": null,
   "metadata": {
    "id": "BQdTsJxxqG8J"
   },
   "outputs": [],
   "source": [
    "model.train_classifier(train_loader_pub, epochs=N_CLASSIFIER_TRAINING_EPOCHS)"
   ]
  },
  {
   "cell_type": "code",
   "execution_count": null,
   "metadata": {
    "colab": {
     "base_uri": "https://localhost:8080/",
     "height": 331
    },
    "id": "DtFwzPzgGfoo",
    "outputId": "f4d9da87-cacd-4237-90e0-60359ecfead8"
   },
   "outputs": [],
   "source": [
    "EXP_SAVE_FILE = \"add noise og data roc auc.json\" if ADD_GAUSSIAN_NOISE else \"og data roc auc.json\"\n",
    "model.evaluate(test_loader_pub, experiment_save_file=EXP_SAVE_FILE)"
   ]
  },
  {
   "cell_type": "markdown",
   "metadata": {
    "id": "RVvZCh6aHHHx"
   },
   "source": [
    "##### Private Labels"
   ]
  },
  {
   "cell_type": "code",
   "execution_count": null,
   "metadata": {
    "colab": {
     "base_uri": "https://localhost:8080/"
    },
    "id": "nL6q_eyog-fP",
    "outputId": "2a2fd037-c129-4757-b810-7df2f07c5b87"
   },
   "outputs": [],
   "source": [
    "# Reinitialize the classifier\n",
    "model = DenseClassifier(N_FEATURES).to(device)\n",
    "model"
   ]
  },
  {
   "cell_type": "code",
   "execution_count": null,
   "metadata": {
    "id": "-9bMlmyag-fP"
   },
   "outputs": [],
   "source": [
    "model.train_classifier(train_loader_pri, epochs=N_CLASSIFIER_TRAINING_EPOCHS)"
   ]
  },
  {
   "cell_type": "code",
   "execution_count": null,
   "metadata": {
    "colab": {
     "base_uri": "https://localhost:8080/",
     "height": 331
    },
    "id": "p0F-u6SvyYjK",
    "outputId": "979a4d28-aa79-4bd7-89b3-a195688e8828"
   },
   "outputs": [],
   "source": [
    "EXP_SAVE_FILE_PRI = \"add noise og roc auc pri.json\" if ADD_GAUSSIAN_NOISE else \"og roc auc pri.json\"\n",
    "model.evaluate(test_loader_pri, experiment_save_file=EXP_SAVE_FILE_PRI)"
   ]
  },
  {
   "cell_type": "markdown",
   "metadata": {
    "id": "ffzGYemoQXAI"
   },
   "source": [
    "### [INFOSHAPE SETUP] Dual Optimization Procedure\n",
    "\n",
    "Core InfoShape contribution: putting everything together to get ReMINE estimates for I(Z; L(X)) and I(Z; S(X)) to form the dual objective function to train a 2-layer dense encoder."
   ]
  },
  {
   "cell_type": "code",
   "execution_count": null,
   "metadata": {
    "id": "gsHdEE_3BBFa"
   },
   "outputs": [],
   "source": [
    "class MINE(nn.Module):\n",
    "    def __init__(self, enc_out_num_nodes):\n",
    "        super().__init__()\n",
    "        self.layers = nn.Sequential(\n",
    "            nn.Linear(enc_out_num_nodes + 1, 100),\n",
    "            nn.ReLU(),\n",
    "            nn.Linear(100, 100),\n",
    "            nn.ReLU(),\n",
    "            nn.Linear(100, 1)\n",
    "        )\n",
    "\n",
    "    def forward(self, z, labels):\n",
    "        z, labels = z.float().to(device), labels.float().to(device)\n",
    "        z = z.view(z.size(0), -1)\n",
    "        cat = torch.cat((z, labels.unsqueeze(-1)), 1)\n",
    "        return self.layers(cat)\n",
    "\n",
    "class DualOptimizationDenseEncoder(nn.Module):\n",
    "    def __init__(self, data_loader, mine_epochs_privacy, mine_epochs_utility, enc_out_nodes=N_ENC_OUT_NODES, beta=BETA, enc_shape=N_FEATURES, private_labels=None):\n",
    "        super().__init__()\n",
    "        self.encoder = DenseEncoder((enc_shape,), out_nodes=enc_out_nodes).to(device)\n",
    "        self.data_loader = data_loader\n",
    "        self.private_labels = torch.from_numpy(private_labels)  # Fail fast with None value if misconfigured\n",
    "        self.mine_epochs_privacy = mine_epochs_privacy\n",
    "        self.mine_epochs_utility = mine_epochs_utility\n",
    "        self.beta = beta\n",
    "\n",
    "    def get_MINE(self, transformed_data_loader, enc_out_num_nodes, mine_epochs, train_epoch, K=MINE_BATCH_SIZE, gradient_batch_size=1, func_str=None):\n",
    "        stats_network = MINE(enc_out_num_nodes).to(device)\n",
    "        mi_estimator = Mine(stats_network, loss='mine').to(device)\n",
    "        func_str = f\"training epoch={train_epoch}: f(x)=DenseEnc(x) {enc_out_num_nodes} nodes\" if not func_str else func_str\n",
    "\n",
    "        kwargs = {\n",
    "            'mine': mi_estimator,\n",
    "            'lr': 1e-4,\n",
    "            'batch_size': K,\n",
    "            'alpha': 0.1,  # Used as the ema weight in MINE\n",
    "            'func': func_str,\n",
    "            'train_loader': transformed_data_loader,\n",
    "            # Determines how many minibatches (MINE iters) of gradients get accumulated before optimizer step gets applied\n",
    "            # Meant to stabilize the MINE curve for [hopefully] better encoder training performance\n",
    "            'gradient_batch_size': gradient_batch_size\n",
    "        }\n",
    "\n",
    "        logger = TensorBoardLogger(\n",
    "            \"lightning_logs\",\n",
    "            name=f\"{EXPERIMENT} BS={K}\",\n",
    "            version=f\"{func_str}, BS={K}\"\n",
    "        )\n",
    "\n",
    "        model = MutualInformationEstimator(loss='mine', **kwargs).to(device)\n",
    "        return model, logger\n",
    "\n",
    "    def forward(self, epoch, num_batches_final_MI, include_privacy=True, include_utility=True, K=MINE_BATCH_SIZE, gradient_batch_size=1):\n",
    "        # Get encoder transformed data\n",
    "        transformedimgs = self.encoder(self.data_loader.dataset.data.float())\n",
    "\n",
    "        labels_public = self.data_loader.dataset.targets.float()\n",
    "        labels_private = self.private_labels.float()\n",
    "\n",
    "        z_train_utility_detached = SyntheticDataset(transformedimgs.detach(), labels_public.detach())\n",
    "        z_train_privacy_detached = SyntheticDataset(transformedimgs.detach(), labels_private.detach())\n",
    "        z_train_loader_utility_detached = DataLoader(z_train_utility_detached, K, shuffle=True)\n",
    "        z_train_loader_privacy_detached = DataLoader(z_train_privacy_detached, K, shuffle=True)\n",
    "\n",
    "        # Get MINE model (sitting in Pytorch lightning module)\n",
    "        model_MINE_utility, logger_utility = self.get_MINE(\n",
    "            z_train_loader_utility_detached, self.encoder.out_nodes, self.mine_epochs_utility, epoch, K=K, gradient_batch_size=gradient_batch_size)\n",
    "        model_MINE_privacy, logger_privacy = self.get_MINE(\n",
    "            z_train_loader_privacy_detached, self.encoder.out_nodes, self.mine_epochs_privacy, epoch, K=K, gradient_batch_size=gradient_batch_size)\n",
    "\n",
    "        # Optimize MINE estimate, \"train\" MINE\n",
    "        last_mi_utility = last_mi_privacy = 0\n",
    "        if include_utility:\n",
    "            trainer_utility = Trainer(max_epochs=self.mine_epochs_utility, logger=logger_utility, gpus=1)\n",
    "            trainer_utility.fit(model_MINE_utility)\n",
    "\n",
    "            ## -------- Calculate I(T(x); L(x)) estimate after MINE training ---------- ##\n",
    "            # **IMPORTANT**: Use the non-detached og transformedimgs so that gradients are retained\n",
    "            z_train_utility = SyntheticDataset(transformedimgs, labels_public.float())\n",
    "            z_train_loader_utility = DataLoader(z_train_utility, K, shuffle=True)\n",
    "            model_MINE_utility.energy_loss.to(device)\n",
    "            sum_MI_utility = 0\n",
    "\n",
    "            # Average MI across num_batches_final_MI batches to lower variance\n",
    "            # Batches are K random samples from the dataset after all\n",
    "            assert num_batches_final_MI < len(z_train_loader_utility.dataset) / K\n",
    "            utility_it = iter(z_train_loader_utility)\n",
    "            for i in range(num_batches_final_MI):\n",
    "                Tx, Lx = next(utility_it)\n",
    "                Tx.to(device)\n",
    "                Lx.to(device)\n",
    "                sum_MI_utility += model_MINE_utility.energy_loss(Tx, Lx)\n",
    "                \n",
    "            # MINE loss = -1 * MI estimate since we are maximizing using gradient descent still\n",
    "            last_mi_utility = -1 * sum_MI_utility / num_batches_final_MI\n",
    "\n",
    "        if include_privacy:\n",
    "            trainer = Trainer(max_epochs=self.mine_epochs_privacy, logger=logger_privacy, gpus=1)\n",
    "            trainer.fit(model_MINE_privacy)\n",
    "\n",
    "            ## -------- Calculate I(T(x); S(x)) estimate after MINE training ---------- ##\n",
    "            z_train_privacy = SyntheticDataset(transformedimgs, labels_private)\n",
    "            z_train_loader_privacy = DataLoader(z_train_privacy, K, shuffle=True)\n",
    "            model_MINE_privacy.energy_loss.to(device)\n",
    "\n",
    "            assert num_batches_final_MI < len(z_train_loader_privacy.dataset) / K\n",
    "            sum_MI_privacy = 0\n",
    "            privacy_it = iter(z_train_loader_privacy)\n",
    "            prev_mi = None\n",
    "            for i in range(num_batches_final_MI):\n",
    "                Tx, Sx = next(privacy_it)\n",
    "                Tx.to(device)\n",
    "                Sx.to(device)\n",
    "                sum_MI_privacy += model_MINE_privacy.energy_loss(Tx, Sx)\n",
    "                \n",
    "            last_mi_privacy = -1 * sum_MI_privacy / num_batches_final_MI\n",
    "\n",
    "        print(f\"final MI values: utility: {last_mi_utility}, privacy: {last_mi_privacy}\")\n",
    "        return last_mi_utility, last_mi_privacy\n",
    "\n",
    "    def train_encoder(\n",
    "        self, \n",
    "        num_enc_epochs=10, \n",
    "        num_batches_final_MI=100, \n",
    "        save_enc_weights=False, \n",
    "        include_privacy=True, \n",
    "        include_utility=True,\n",
    "        K=MINE_BATCH_SIZE,\n",
    "        gradient_batch_size=1,\n",
    "        enc_save_path=ENC_SAVE_PATH,\n",
    "    ):\n",
    "        # Encoder's training params\n",
    "        learning_rate = 1e-3\n",
    "        encoder_optimizer = torch.optim.Adam(\n",
    "            self.encoder.parameters(),\n",
    "            lr=learning_rate,\n",
    "        )\n",
    "        self.encoder.train()\n",
    "\n",
    "        for epoch in range(num_enc_epochs):\n",
    "            mi_utility, mi_privacy = self.forward(  # TODO what are these values, are they -utiilty and -privacy? Make sure \n",
    "                epoch, num_batches_final_MI, include_privacy=include_privacy, include_utility=include_utility, K=K, gradient_batch_size=gradient_batch_size\n",
    "            )\n",
    "            encoder_optimizer.zero_grad()            \n",
    "            loss = -mi_utility + self.beta * mi_privacy\n",
    "            loss.backward()\n",
    "            encoder_optimizer.step()\n",
    "\n",
    "            if save_enc_weights:\n",
    "                # Don't save the state dict since that doesn't include the model parameters + their gradients\n",
    "                # Options were to save entire model or optimizer's state dict:\n",
    "                # https://discuss.pytorch.org/t/how-to-save-the-requires-grad-state-of-the-weights/52906/6\n",
    "                print(f\"Saving weights to {enc_save_path}\")\n",
    "                torch.save(self.encoder, enc_save_path + f\"{EXPERIMENT} epoch={epoch}.pt\")\n",
    "                torch.save(encoder_optimizer.state_dict(), enc_save_path + f\"[optimizer] {EXPERIMENT} epoch={epoch}.pt\")\n",
    "\n",
    "            print(f'====> Epoch: {epoch} Utility MI I(T(x); L(x)): {mi_utility:.8f}')\n",
    "            print(f'====> Epoch: {epoch} Privacy MI I(T(x); S(x)): {mi_privacy:.8f}')\n",
    "            print(f'====> Epoch: {epoch} Loss: {loss:.8f}')"
   ]
  },
  {
   "cell_type": "markdown",
   "metadata": {
    "id": "SmM53OJiHv6q"
   },
   "source": [
    "### Entropy Baselines\n",
    "Use ReMINE to empirically converge to a lower bound for different mutual information quantiies representing:\n",
    "\n",
    "TODO: Check?\n",
    "1. Entropy of the dataset H(X) = I(X; X)\n",
    "2. Entropy of the labelling function H(L(X)) >= I(X; L(X)) = H(L(X)) - H(L(X)|X)\n",
    "3. Entropy of the private labelling function H(S(X)) >= I(X; S(X)) = H(S(X)) - H(S(X)|X)"
   ]
  },
  {
   "cell_type": "markdown",
   "metadata": {
    "id": "YHfWtxp7V9sj"
   },
   "source": [
    "#### Calculate H(X) entropy of the generated data\n",
    "TODO: remove??"
   ]
  },
  {
   "cell_type": "code",
   "execution_count": null,
   "metadata": {
    "colab": {
     "base_uri": "https://localhost:8080/",
     "height": 625,
     "referenced_widgets": [
      "9d823ed1b7f049c1aca917e8312fea11",
      "d091a7542054493b990ae30b6bfad92e",
      "37dc8cfb59044775bcc5f43265ecab6a",
      "0e2647ad06d84406b36497763ae0ed6c",
      "bb0539837eda453987be04738614320f",
      "859085d5be84452ca23767279d3b3a69",
      "e761816a941b41f29da6581046746f0c",
      "b428b025eecc4ad5b7df901f9fc1e166",
      "b4f5ae3e6cfc421da86b80c15873b1ab",
      "24809e662105463c8d7b04a103923704",
      "f49195a2991347b6b4b28e27c693678c"
     ]
    },
    "id": "7MvyELTjV83s",
    "outputId": "bd8cfaf6-b621-4b82-bd41-a5b363fbdef2"
   },
   "outputs": [],
   "source": [
    "EXPERIMENT = f\"[SYNTHETIC DATA | PUBLIC PRIVATE LABELS | H(X) COMPUTE] REMINE BS=2K C=0 λ=0.1 MIb=10\"\n",
    "\n",
    "t = MINE(N_FEATURES, N_FEATURES).to(device)\n",
    "mi_estimator = Mine(t, loss='mine').to(device)\n",
    "func_str = f\"I(x;x) {N_FEATURES} nodes\"\n",
    "lr = 1e-4\n",
    "\n",
    "train_dataset_HX = SyntheticDataset(torch.from_numpy(X_train), torch.from_numpy(X_train))\n",
    "train_loader_HX = DataLoader(train_dataset_HX, batch_size=BATCH_SIZE, shuffle=True)\n",
    "\n",
    "kwargs = {\n",
    "    'mine': mi_estimator,\n",
    "    'lr': lr,\n",
    "    'batch_size': MINE_BATCH_SIZE,\n",
    "    'alpha': 0.1,\n",
    "    'func': func_str,\n",
    "    'train_loader': train_loader_HX,  # TODO: Repeat for private labels dataset too: train_loader_pri\n",
    "    # Determines how many minibatches (MINE iters) of gradients get accumulated before optimizer step gets applied\n",
    "    # Meant to stabilize the MINE curve for better encoder training performance\n",
    "    'gradient_batch_size': 10\n",
    "}\n",
    "\n",
    "logger = TensorBoardLogger(\n",
    "    \"lightning_logs\",\n",
    "    name=EXPERIMENT\",\n",
    "    version=f\"{func_str}, BS: {MINE_BATCH_SIZE}\"\n",
    ")\n",
    "\n",
    "model = MutualInformationEstimator(loss='mine', **kwargs).to(device)\n",
    "\n",
    "trainer = Trainer(max_epochs=1500, logger=logger, gpus=1)\n",
    "trainer.fit(model)"
   ]
  },
  {
   "cell_type": "code",
   "execution_count": null,
   "metadata": {
    "id": "VJ52Xi2Y6Ts3"
   },
   "outputs": [],
   "source": [
    "%load_ext autoreload\n",
    "%autoreload 2\n",
    "%load_ext tensorboard"
   ]
  },
  {
   "cell_type": "code",
   "execution_count": null,
   "metadata": {
    "id": "xEPL9XXX3oTd"
   },
   "outputs": [],
   "source": [
    "%tensorboard --logdir=\"lightning_logs/[SYNTHETIC DATA | PUBLIC PRIVATE LABELS | H(X) COMPUTE] REMINE BS=2K C=0 λ=0.1 MIb=10 privacy BS=2000\" --max_reload_threads 4 --samples_per_plugin scalars=1000"
   ]
  },
  {
   "cell_type": "markdown",
   "metadata": {
    "id": "CiaE3oZ7yOIP"
   },
   "source": [
    "#### Calculate H(L(X)) entropy of the public labeling function"
   ]
  },
  {
   "cell_type": "code",
   "execution_count": null,
   "metadata": {
    "colab": {
     "base_uri": "https://localhost:8080/",
     "height": 535,
     "referenced_widgets": [
      "99cd6699fe2c4954989bd743e245b9bf",
      "0c05f7349fcd48c6b4559191a9d1b450",
      "b8c31874c6bd492b8f46baa45ce9b618",
      "18e22554ae9342bfade98c9acb3d36bc",
      "b1e7134a1a52455ba929afe562cd52e8",
      "4e636e3b674f4bcb97a62deab839c763",
      "79656baf2e814253b620d6fd8836de35",
      "53d4a7a542464790a9115f030df1082e",
      "c869ef7f81bb4a5abaece106ef947597",
      "48bf9a632f8c46d3bf9577db09d2f145",
      "7ab5fab44a084129aee9cfd8993168ba"
     ]
    },
    "id": "pR6who_oyWzH",
    "outputId": "6607fe70-553e-4938-880a-c5d3b63effd1"
   },
   "outputs": [],
   "source": [
    "EXPERIMENT = f\"[SYNTHETIC DATA | PUBLIC PRIVATE LABELS | H(L(X)) PUB EST] REMINE BS=2K C=0 λ=0.1 10 final batches MI\"\n",
    "train_loader_pub_HLx = DataLoader(train_dataset_pub, batch_size=MINE_BATCH_SIZE, shuffle=True)\n",
    "\n",
    "t = MINE(N_FEATURES).to(device)\n",
    "mi_estimator = Mine(t, loss='mine').to(device)\n",
    "func_str = f\"I(x;L(x)) {N_FEATURES} nodes\"\n",
    "lr = 1e-4\n",
    "\n",
    "kwargs = {\n",
    "    'mine': mi_estimator,\n",
    "    'lr': lr,\n",
    "    'batch_size': MINE_BATCH_SIZE,\n",
    "    'alpha': 0.1,\n",
    "    'func': func_str,\n",
    "    'train_loader': train_loader_pub_HLx,\n",
    "    # Determines how many minibatches (MINE iters) of gradients get accumulated before optimizer step gets applied\n",
    "    # Meant to stabilize the MINE curve for better encoder training performance\n",
    "    'gradient_batch_size': 10\n",
    "}\n",
    "\n",
    "logger = TensorBoardLogger(\n",
    "    \"lightning_logs\",\n",
    "    name=f\"{EXPERIMENT} utility BS={MINE_BATCH_SIZE}\",\n",
    "    version=f\"{func_str}, BS: {MINE_BATCH_SIZE}\"\n",
    ")\n",
    "\n",
    "model = MutualInformationEstimator(loss='mine', **kwargs).to(device)\n",
    "\n",
    "trainer = Trainer(max_epochs=5000, logger=logger, gpus=1)\n",
    "trainer.fit(model)"
   ]
  },
  {
   "cell_type": "code",
   "execution_count": null,
   "metadata": {
    "colab": {
     "base_uri": "https://localhost:8080/"
    },
    "id": "973iJiq0LOHW",
    "outputId": "9207edc4-cb1e-4dfe-bdfe-b9f9f4688f29"
   },
   "outputs": [],
   "source": [
    "# Upload these to tensorboard to extract numerical values directly to a pandas df\n",
    "!tensorboard dev upload --logdir \"lightning_logs/[SYNTHETIC DATA | PUBLIC PRIVATE LABELS | H(L(X)) PUB EST] REMINE BS=2K C=0 λ=0.1 10 final batches MI utility BS=2000\" \\\n",
    "  --name \"ReMINE [PUBLIC PRIVATE LABELS | H(L(X))] REMINE BS=2K utility\" \\\n",
    "  --one_shot"
   ]
  },
  {
   "cell_type": "markdown",
   "metadata": {
    "id": "7fRUDbKzL4sh"
   },
   "source": [
    "#### Calculate H(S(X)) entropy of the labeling function (Private labels)"
   ]
  },
  {
   "cell_type": "code",
   "execution_count": null,
   "metadata": {
    "colab": {
     "base_uri": "https://localhost:8080/",
     "height": 535,
     "referenced_widgets": [
      "8274cb0b2853429180c9d5af74dd51f9",
      "862b6b43e3b24a4c8bea4e002a4846ea",
      "384e4995765b46b5a3981618b02cbdfc",
      "868af4557ab642cba02ddbae2474f398",
      "09e728a2779a4663a63cfbd20f365c65",
      "d7154191ccbc41ef87afffee656b8207",
      "6be58ad07a7940dab4b56ccc085308f9",
      "8458ff8da3a24b3cb274d66cfcc08ce2",
      "d8cafde09de44260a9c6853f364f77c5",
      "6ee9715b566d46b3b1b3c63b7382ead2",
      "f9a5f3249d99401d97053df1252955a7"
     ]
    },
    "id": "OCHBnVa2L6ff",
    "outputId": "ae40be24-5ce6-4738-bea3-fa8979dd59f2"
   },
   "outputs": [],
   "source": [
    "EXPERIMENT = f\"[SYNTHETIC DATA | PUBLIC PRIVATE LABELS | H(S(X)) PRI EST] REMINE BS=2K C=0 λ=0.1 10 final batches MI\"\n",
    "train_loader_pri_HSx = DataLoader(train_dataset_pri, batch_size=MINE_BATCH_SIZE, shuffle=True)\n",
    "\n",
    "lr = 1e-4\n",
    "t = MINE(N_FEATURES).to(device)\n",
    "mi_estimator = Mine(t, loss='mine').to(device)\n",
    "func_str = f\"I(x;S(x)) {N_FEATURES} nodes\"\n",
    "\n",
    "kwargs = {\n",
    "    'mine': mi_estimator,\n",
    "    'lr': lr,\n",
    "    'batch_size': MINE_BATCH_SIZE,\n",
    "    'alpha': 0.1,\n",
    "    'func': func_str,\n",
    "    'train_loader': train_loader_pri_HSx,\n",
    "    # Determines how many minibatches (MINE iters) of gradients get accumulated before optimizer step gets applied\n",
    "    # Meant to stabilize the MINE curve for better encoder training performance\n",
    "    'gradient_batch_size': 10\n",
    "}\n",
    "\n",
    "logger = TensorBoardLogger(\n",
    "    \"lightning_logs\",\n",
    "    name=f\"{EXPERIMENT} utility BS={MINE_BATCH_SIZE}\",\n",
    "    version=f\"{func_str}, BS={MINE_BATCH_SIZE}\"\n",
    ")\n",
    "\n",
    "model = MutualInformationEstimator(loss='mine', **kwargs).to(device)\n",
    "\n",
    "trainer = Trainer(max_epochs=5000, logger=logger, gpus=1)\n",
    "trainer.fit(model)"
   ]
  },
  {
   "cell_type": "code",
   "execution_count": null,
   "metadata": {
    "colab": {
     "base_uri": "https://localhost:8080/"
    },
    "id": "FlR9hdWFhdTX",
    "outputId": "e2a8bd54-9139-47ca-b23f-df321671ad9d"
   },
   "outputs": [],
   "source": [
    "!tensorboard dev upload --logdir \"lightning_logs/[SYNTHETIC DATA | PUBLIC PRIVATE LABELS | H(S(X)) PRI EST] REMINE BS=2K C=0 λ=0.1 10 final batches MI utility BS=2000\" \\\n",
    "  --name \"ReMINE [PUBLIC PRIVATE LABELS | H(S(X))] REMINE BS=2K utility\" \\\n",
    "  --one_shot"
   ]
  },
  {
   "cell_type": "markdown",
   "metadata": {
    "id": "SJmq1ykDMXu2"
   },
   "source": [
    "#### Extract tensorboard values to Pandas DF"
   ]
  },
  {
   "cell_type": "code",
   "execution_count": null,
   "metadata": {
    "colab": {
     "base_uri": "https://localhost:8080/"
    },
    "id": "YRDR5tnUrjvQ",
    "outputId": "cedef82e-2572-47e7-8c0c-82d04387d17a"
   },
   "outputs": [],
   "source": [
    "import pandas as pd\n",
    "import tensorboard as tb\n",
    "from packaging import version\n",
    "\n",
    "major_ver, minor_ver, _ = version.parse(tb.__version__).release\n",
    "assert major_ver >= 2 and minor_ver >= 3, \\\n",
    "    \"This notebook requires TensorBoard 2.3 or later.\"\n",
    "print(\"TensorBoard version: \", tb.__version__)"
   ]
  },
  {
   "cell_type": "code",
   "execution_count": null,
   "metadata": {
    "colab": {
     "base_uri": "https://localhost:8080/",
     "height": 424
    },
    "id": "TojPM9rarkl_",
    "outputId": "19e3eace-763e-46bf-e915-f4274a04eea7"
   },
   "outputs": [],
   "source": [
    "experiment_id = \"T6QwUgmRRFmvlGNmCPV9pw\"\n",
    "experiment = tb.data.experimental.ExperimentFromDev(experiment_id)\n",
    "HLx_df = experiment.get_scalars()\n",
    "HLx_df"
   ]
  },
  {
   "cell_type": "code",
   "execution_count": null,
   "metadata": {
    "colab": {
     "base_uri": "https://localhost:8080/",
     "height": 839
    },
    "id": "jeNcvYajrvYp",
    "outputId": "c2903e66-2e34-4ccb-ff84-5a2b1b1cecff"
   },
   "outputs": [],
   "source": [
    "experiment_id = \"FeN5wfEpTQyK8ZCeG8WubQ\"\n",
    "experiment = tb.data.experimental.ExperimentFromDev(experiment_id)\n",
    "HSx_df = experiment.get_scalars()\n",
    "HSx_df"
   ]
  },
  {
   "cell_type": "code",
   "execution_count": null,
   "metadata": {
    "id": "P_Oxq-AerUSv"
   },
   "outputs": [],
   "source": [
    "import json\n",
    "\n",
    "with open(\"data/icassp/privacy/remine_HLx.json\", \"w\") as f:\n",
    "    f.write(HLx_df.to_json(orient=\"records\", lines=True))\n",
    "with open(\"data/icassp/utility/remine_HSx.json\", \"w\") as g:\n",
    "    g.write(HSx_df.to_json(orient=\"records\", lines=True))"
   ]
  },
  {
   "cell_type": "markdown",
   "metadata": {
    "id": "hr52p-HLdfvE"
   },
   "source": [
    "### Classification on Encoded Data (Untrained Encoder)\n",
    "Using a simple untrained encoder (DenseEncoder is just 2 dense layers with nonlinearity), establish a baseline for classification performance on both public and private labels. This is the same as the \"Initial Classification\" section, except with encoded data."
   ]
  },
  {
   "cell_type": "markdown",
   "metadata": {
    "id": "sXYrq8v7hG1a"
   },
   "source": [
    "##### Public Labels"
   ]
  },
  {
   "cell_type": "code",
   "execution_count": null,
   "metadata": {
    "id": "mRDIhAWHde6F"
   },
   "outputs": [],
   "source": [
    "enc = DenseEncoder((N_FEATURES,), out_nodes=N_ENC_OUT_NODES).to(device)\n",
    "train_transform_pub = enc(train_dataset_pub.data.float()).detach()\n",
    "test_transform_pub = enc(test_dataset_pub.data.float()).detach()\n",
    "train_data_transform_pub = SyntheticDataset(\n",
    "    train_transform_pub,\n",
    "    train_dataset_pub.targets\n",
    ")\n",
    "test_data_transform_pub = SyntheticDataset(\n",
    "    test_transform_pub,\n",
    "    test_dataset_pub.targets\n",
    ")\n",
    "\n",
    "train_loader_transform_pub = DataLoader(train_data_transform_pub, batch_size=BATCH_SIZE, shuffle=True)\n",
    "test_loader_transform_pub = DataLoader(test_data_transform_pub, batch_size=BATCH_SIZE, shuffle=True)"
   ]
  },
  {
   "cell_type": "code",
   "execution_count": null,
   "metadata": {
    "colab": {
     "base_uri": "https://localhost:8080/"
    },
    "id": "LC8kwEAM7aeY",
    "outputId": "af68b606-b389-4e2b-96a4-662ec32166bd"
   },
   "outputs": [],
   "source": [
    "model_enctrans = DenseClassifier(enc.out_nodes).to(device)\n",
    "model_enctrans"
   ]
  },
  {
   "cell_type": "code",
   "execution_count": null,
   "metadata": {
    "id": "t_oFwaAj7jlT"
   },
   "outputs": [],
   "source": [
    "model_enctrans.train_classifier(train_loader_transform_pub, epochs=N_CLASSIFIER_TRAINING_EPOCHS)"
   ]
  },
  {
   "cell_type": "code",
   "execution_count": null,
   "metadata": {
    "colab": {
     "base_uri": "https://localhost:8080/",
     "height": 331
    },
    "id": "BQfZTw1lGmoW",
    "outputId": "92433013-f83c-4c7c-80f5-2ce0f9b52825"
   },
   "outputs": [],
   "source": [
    "model_enctrans.evaluate(test_loader_transform_pub, experiment_save_file=\"untrainedenc data roc auc pub.json\")"
   ]
  },
  {
   "cell_type": "markdown",
   "metadata": {
    "id": "mF-hjE3Riw_w"
   },
   "source": [
    "##### Private Labels"
   ]
  },
  {
   "cell_type": "code",
   "execution_count": null,
   "metadata": {
    "id": "Jg89EX6Siw_x"
   },
   "outputs": [],
   "source": [
    "# Use the same enc as above, just to demonstrate a point (we'll be using the same trained encoder after enc training w ReMINE)\n",
    "# enc = DenseEncoder((N_FEATURES,), out_nodes=N_ENC_OUT_NODES).to(device)\n",
    "train_transform_pri = enc(train_dataset_pri.data.float()).detach()\n",
    "test_transform_pri = enc(test_dataset_pri.data.float()).detach()\n",
    "train_data_transform_pri = SyntheticDataset(\n",
    "    train_transform_pri,\n",
    "    train_dataset_pri.targets\n",
    ")\n",
    "test_data_transform_pri = SyntheticDataset(\n",
    "    test_transform_pri,\n",
    "    test_dataset_pri.targets\n",
    ")\n",
    "\n",
    "train_loader_transform_pri = DataLoader(train_data_transform_pri, batch_size=BATCH_SIZE, shuffle=True)\n",
    "test_loader_transform_pri = DataLoader(test_data_transform_pri, batch_size=BATCH_SIZE, shuffle=True)"
   ]
  },
  {
   "cell_type": "code",
   "execution_count": null,
   "metadata": {
    "colab": {
     "base_uri": "https://localhost:8080/"
    },
    "id": "qFpgdtqfiw_x",
    "outputId": "9e331757-7218-48ca-81f8-cfae8bc45bb8"
   },
   "outputs": [],
   "source": [
    "model_enctrans = DenseClassifier(enc.out_nodes).to(device)\n",
    "model_enctrans"
   ]
  },
  {
   "cell_type": "code",
   "execution_count": null,
   "metadata": {
    "id": "1YtX78C-iw_x"
   },
   "outputs": [],
   "source": [
    "model_enctrans.train_classifier(train_loader_transform_pri, epochs=N_CLASSIFIER_TRAINING_EPOCHS)"
   ]
  },
  {
   "cell_type": "code",
   "execution_count": null,
   "metadata": {
    "colab": {
     "base_uri": "https://localhost:8080/",
     "height": 331
    },
    "id": "YraX9FAUiw_x",
    "outputId": "b6c5bc55-0a45-4da9-f61f-3a6e42b68abe"
   },
   "outputs": [],
   "source": [
    "model_enctrans.evaluate(test_loader_transform_pri, experiment_save_file=\"untrainedenc data roc auc pri.json\")"
   ]
  },
  {
   "cell_type": "markdown",
   "metadata": {
    "id": "OPabaaoh7rgZ"
   },
   "source": [
    "### **[INFOSHAPE]** Training Procedure for Encoder\n",
    "\n",
    "Utility Score: the negative of the average uncertainty about the public label given its encoded representation.\n",
    "\\begin{equation}\n",
    "    M_\\text{utility}(T)\\triangleq-\\mathbf{H}[L(x)|T(x)]\n",
    "\\end{equation}\n",
    "\n",
    "Privacy Leakage: the average uncertainty about the private label given its encoded representation.\n",
    "\\begin{equation}\n",
    "    M_\\text{privacy}(T)\\triangleq\\mathbf{H}[S(x)|T(x)]\n",
    "\\end{equation}\n",
    "\n",
    "Train an encoder to minimize the dual optimization objective (where $T^*$ is the \"optimal\" encoder): \n",
    "\\begin{align}\n",
    "    T^*& = \\arg\\min_{T\\in\\mathcal{T}}  M_\\text{utility}(T)+\\beta M_\\text{privacy}(T)\\\\\n",
    "    &= \\arg\\min_{T\\in\\mathcal{T}} I(T(x); L(x)) + \\beta I(T(x); S(x))\n",
    "\\end{align}\n",
    "\n",
    "Please see Equation 5 and Algorithm 1 in our [paper](https://arxiv.org/abs/2210.15034) for derivations.\n",
    "\n",
    "-----------------------------------\n",
    "\n",
    "The code for this section is quite convoluted with many stack frames and Pytorch Lightning calls that abstract away the logic. The high level organization is as follows:\n",
    "1. Initialize the DualOptimizationDenseEncoder class with params and data\n",
    "2. Call train_encoder() and indicate that we want to save the encoder weights \n",
    "3. For each epoch, do:\n",
    "  - Use the encoder to transform a copy of the dataset\n",
    "  - Create and _detach from the computation graph_ (very important!) an intermediate dataset to feed into the ReMINE statistics network to calculate utility score, ie I(Z; L(X)), where L is the public labelling function.\n",
    "  - Set up the ReMINE statistics network and MutualInformationEstimator for calculating the utility score (lower bound on I(Z; L(X))) and then train it to maximize the lower bound.\n",
    "  - Create an intermediate dataset (_not detached this time!_) and use the optimized ReMINE network to calculate an average utility score across `num_batches_final_MI` iterations.\n",
    "  - Repeat each of the steps in Step 3 so far for private labels and the privacy statistics network: create detached intermediate dataset with private labels to train the privacy ReMINE network to converge on I(Z; S(X)), and then calculate an average privacy leakage score across `num_batches_final_MI` iterations.\n",
    "  - Combine both utility score and privacy leakage as the loss term and take a step updating Infoshape's encoder's weights.\n",
    "\n",
    "Notes:\n",
    "- Param for number of InfoShape encoder training epochs (50 was chosen since each epoch takes some amount of time < 1 hr, and we wanted to show InfoShape's potential effectiveness as a POC).\n",
    "- Supplying the private labels to the dual optimizer class's constructor is necessary for dual optimization. Could probably refactor this to be better.\n",
    "- Param for batched gradient accumulation to lower the variance of the ReMINE convergence.\n",
    "- Params for number of ReMINE iterations (experimentally identified numbers that indicated convergence)\n",
    "- ReMINE regularization params (see ReMINE paper's objective function differences from that of MINE)\n",
    "- Minibatch size for ReMINE network training\n",
    "- Params giving options for saving encoder weights and ReMINE convergence graphs in Tensorboard\n",
    "- Options to exclude either privacy or utility from legacy experiments"
   ]
  },
  {
   "cell_type": "code",
   "execution_count": null,
   "metadata": {
    "id": "e6IfYBBs9lbj"
   },
   "outputs": [],
   "source": [
    "N_INFOSHAPE_EPOCHS = 2\n",
    "N_PRIVACY_MINE_EPOCHS = 2\n",
    "N_UTILITY_MINE_EPOCHS = 2\n",
    "GRADIENT_BATCH_SIZE = 10  # How many gradients get accumulated before update (zero_grad)\n",
    "EXPERIMENT = f\"[DEBUG][SYNTHETIC DATA | PUBLIC PRIVATE LABELS | DUAL ENC TRAIN] REMINE BS=2K C=0 λ=0.1 MIb=10 ENC_EPOCHS={N_INFOSHAPE_EPOCHS}\""
   ]
  },
  {
   "cell_type": "code",
   "execution_count": null,
   "metadata": {
    "colab": {
     "base_uri": "https://localhost:8080/",
     "height": 1000,
     "referenced_widgets": [
      "7db38d9279d04da981d73c458ca86cba",
      "1c58fe64ad69442ca74708077da6f310",
      "d4da4e0c1f85444b979daa5e826632e6",
      "62cdafe120c44f6d800844eaf2009093",
      "5795a1af42fe4260a6253bfa396d5c39",
      "6fb8fa2beb4a4712bcf1ecd09ce41ae2",
      "ff15a585bae84dcebe7ca88b41815ce7",
      "9e08e5432abd4540abfe497a3eb75844",
      "e18cd9cb9cb646d9ab22ba3a53ea7bec",
      "1dd97e09c01648c1abdfde7e311f08b8",
      "3a1940510a224bc3b72444d8af0ec5ac",
      "9d5c4059457e487680f8758bba8fcbc2",
      "9bddb942775c4d16ae7734cc08334212",
      "a18d1a6a1993443cb63e3726f5ce3ccd",
      "9498835ea1cb4a35ab54238a5757ca5a",
      "26f44bd537ce4432b1926139fb220ca9",
      "17bcfa87c3564da397b3fbad2c0d6358",
      "78200a874f374a82a3a3b6921e78033a",
      "7055247a2e344b5d8d05ee4a1fe46e79",
      "41a16f5868d543bdaffa29dc162dd5be",
      "a3f898dba16842a783a64034e2db9253",
      "deab7dddc63e4e339e992c1fdf3aa161",
      "b5fb232774e04032b62a2a1876fc64a9",
      "888d32e78d82430e9e40adb97bd4ebd6",
      "6509d0eeb050492e98351a87ff60c674",
      "9e29745701fd4a4398720ab811e65977",
      "e3141051c7ee43e1802a2369f10baad1",
      "2be526ebc9964cd4b5da245e63e7d044",
      "e974fb95a6314c998bbd154025f7b03a",
      "aaae105d551b42cc88d289aa0dcc4adf",
      "c870fa63bca2474abf18b276e60ff6d9",
      "5959a19e41044c61b0c56d39111e4df2",
      "e60b2107add043e784409c915656296c",
      "8bcebb7188584d588f287c5a503109ec",
      "fbfddaa1660946e2b047978967535cce",
      "5b204737593c4aafac334a6bedf51699",
      "5f18571123414c90af975b143da36c8d",
      "e1dd31717e2c41248a2113500116389e",
      "3171fc554e5049389f25ff5144377a04",
      "b4fd37ee63564c3caaece9f6f9c1a5ad",
      "9e95fb3e954941a29b97f10812b665dc",
      "15c8c21a43424d6382dc94f2b3750b1e",
      "1c72dede7ab5440cb55adfc6b9b5d3da",
      "7982d9c3a6c94dd394e9b640d407d220"
     ]
    },
    "id": "GRp7SmIA7xUw",
    "outputId": "f9621ff0-b839-42a0-d728-4683475f8ef9"
   },
   "outputs": [],
   "source": [
    "dualopt_model = DualOptimizationDenseEncoder(\n",
    "    train_loader_pub,\n",
    "    mine_epochs_privacy=N_PRIVACY_MINE_EPOCHS,\n",
    "    mine_epochs_utility=N_UTILITY_MINE_EPOCHS,\n",
    "    enc_out_nodes=N_ENC_OUT_NODES,\n",
    "    private_labels=y_train_pri\n",
    ").to(device)\n",
    "start = time.time()\n",
    "dualopt_model.train_encoder(\n",
    "    num_enc_epochs=N_INFOSHAPE_EPOCHS,\n",
    "    num_batches_final_MI=3,\n",
    "    include_privacy=True,\n",
    "    include_utility=True,\n",
    "    K=MINE_BATCH_SIZE,\n",
    "    gradient_batch_size=GRADIENT_BATCH_SIZE,\n",
    "    save_enc_weights=True,\n",
    "    enc_save_path=ENC_SAVE_PATH\n",
    ")\n",
    "print(f\"Total time taken: {time.time() - start} s.\")"
   ]
  },
  {
   "cell_type": "markdown",
   "metadata": {
    "id": "rClyqUSVEPPS"
   },
   "source": [
    "#### Trained Encoder AUC Reevaluation\n",
    "\n",
    "Key insight is drawn from comparing between untrained and ReMINE-trained encoder"
   ]
  },
  {
   "cell_type": "markdown",
   "metadata": {
    "id": "ThMNHrOsnulT"
   },
   "source": [
    "##### Public Labels"
   ]
  },
  {
   "cell_type": "code",
   "execution_count": null,
   "metadata": {
    "id": "y8yxeU7HDfgj"
   },
   "outputs": [],
   "source": [
    "enc_trained = torch.load(ENC_SAVE_PATH + f\"{EXPERIMENT} epoch={N_INFOSHAPE_EPOCHS-1}.pt\")  # epochs are 0 indexed\n",
    "\n",
    "train_transform_pub_trainedenc = enc_trained(train_dataset_pub.data.float()).detach()\n",
    "test_transform_pub_trainedenc = enc_trained(test_dataset_pub.data.float()).detach()\n",
    "train_data_transform_pub_trainedenc = SyntheticDataset(\n",
    "    train_transform_pub_trainedenc,\n",
    "    train_dataset_pub.targets\n",
    ")\n",
    "test_data_transform_pub_trainedenc = SyntheticDataset(\n",
    "    test_transform_pub_trainedenc,\n",
    "    test_dataset_pub.targets\n",
    ")\n",
    "\n",
    "train_loader_transform = DataLoader(train_data_transform_pub_trainedenc, batch_size=BATCH_SIZE, shuffle=True)\n",
    "test_loader_transform = DataLoader(test_data_transform_pub_trainedenc, batch_size=BATCH_SIZE, shuffle=True)"
   ]
  },
  {
   "cell_type": "code",
   "execution_count": null,
   "metadata": {
    "id": "t0nTkrIj9xdk"
   },
   "outputs": [],
   "source": [
    "model_enctrans_ = DenseClassifier(enc_trained.out_nodes).to(device)\n",
    "model_enctrans_.train_classifier(train_loader_transform, epochs=N_CLASSIFIER_TRAINING_EPOCHS)"
   ]
  },
  {
   "cell_type": "code",
   "execution_count": null,
   "metadata": {
    "colab": {
     "base_uri": "https://localhost:8080/",
     "height": 331
    },
    "id": "LowUl38e-CIP",
    "outputId": "aba096e7-48c9-4616-bb2a-8c76318cf222"
   },
   "outputs": [],
   "source": [
    "model_enctrans_.evaluate(test_loader_transform, experiment_save_file=\"[refactor2] trainedenc data roc auc pub.json\")"
   ]
  },
  {
   "cell_type": "markdown",
   "metadata": {
    "id": "97b18fOzn4zg"
   },
   "source": [
    "##### Private Labels"
   ]
  },
  {
   "cell_type": "code",
   "execution_count": null,
   "metadata": {
    "id": "bQJq9Uv1n4zg"
   },
   "outputs": [],
   "source": [
    "# Use the same encoder, dual-objective trained with ReMINE\n",
    "train_transform_pri_trainedenc = enc_trained(train_dataset_pri.data.float()).detach()\n",
    "test_transform_pri_trainedenc = enc_trained(test_dataset_pri.data.float()).detach()\n",
    "train_data_transform_pri_trainedenc = SyntheticDataset(\n",
    "    train_transform_pri_trainedenc,\n",
    "    train_dataset_pri.targets\n",
    ")\n",
    "test_data_transform_pri_trainedenc = SyntheticDataset(\n",
    "    test_transform_pri_trainedenc,\n",
    "    test_dataset_pri.targets\n",
    ")\n",
    "\n",
    "train_loader_transform_pri = DataLoader(train_data_transform_pri_trainedenc, batch_size=BATCH_SIZE, shuffle=True)\n",
    "test_loader_transform_pri = DataLoader(test_data_transform_pri_trainedenc, batch_size=BATCH_SIZE, shuffle=True)"
   ]
  },
  {
   "cell_type": "code",
   "execution_count": null,
   "metadata": {
    "id": "JybqV9oE-KUY"
   },
   "outputs": [],
   "source": [
    "model_enctrans_ = DenseClassifier(enc_trained.out_nodes).to(device)\n",
    "model_enctrans_.train_classifier(train_loader_transform_pri, epochs=N_CLASSIFIER_TRAINING_EPOCHS)"
   ]
  },
  {
   "cell_type": "code",
   "execution_count": null,
   "metadata": {
    "colab": {
     "base_uri": "https://localhost:8080/",
     "height": 331
    },
    "id": "HRxKjH-3-MQg",
    "outputId": "30cf7534-28c6-4299-fb6b-315df22751fa"
   },
   "outputs": [],
   "source": [
    "model_enctrans_.evaluate(test_loader_transform_pri, experiment_save_file=\"[refactor2] trainedenc data roc auc pri.json\")"
   ]
  },
  {
   "cell_type": "markdown",
   "metadata": {
    "id": "xiB-vM1jmwOy"
   },
   "source": [
    "## Upload ReMINE data to Tensorboard Dev\n",
    "Use dataframe to then export for making plots in Excel"
   ]
  },
  {
   "cell_type": "code",
   "execution_count": null,
   "metadata": {
    "colab": {
     "base_uri": "https://localhost:8080/"
    },
    "id": "90iqhksTm9u_",
    "outputId": "ce180cce-78b3-49c0-b1e2-b445299199b6"
   },
   "outputs": [],
   "source": [
    "!tensorboard dev upload --logdir \"lightning_logs/[FINAL50][SYNTHETIC DATA | PUBLIC PRIVATE LABELS | DUAL ENC TRAIN] REMINE BS=2K C=0 λ=0.1 MIb=10 ENC_EPOCHS=10 utility BS=2000\" \\\n",
    "  --name \"ReMINE FINAL50 [PUBLIC PRIVATE LABELS | DUAL ENC TRAIN] REMINE BS=2K ENC_EPOCHS=50 utility\" \\\n",
    "  --one_shot"
   ]
  },
  {
   "cell_type": "code",
   "execution_count": null,
   "metadata": {
    "colab": {
     "base_uri": "https://localhost:8080/",
     "height": 424
    },
    "id": "EiaamrachQLE",
    "outputId": "953fde72-5d0b-4076-8065-134d2b6d52fc"
   },
   "outputs": [],
   "source": [
    "experiment_id = \"7qGGSyFEQDKvbE7kyahxAg\"\n",
    "experiment = tb.data.experimental.ExperimentFromDev(experiment_id)\n",
    "utility_df = experiment.get_scalars()\n",
    "utility_df"
   ]
  },
  {
   "cell_type": "code",
   "execution_count": null,
   "metadata": {
    "colab": {
     "base_uri": "https://localhost:8080/"
    },
    "id": "SdpsgyJpyJBz",
    "outputId": "6855b2d5-ed78-47cd-d225-75c5e7d92256"
   },
   "outputs": [],
   "source": [
    "!tensorboard dev upload --logdir \"lightning_logs/[FINAL50][SYNTHETIC DATA | PUBLIC PRIVATE LABELS | DUAL ENC TRAIN] REMINE BS=2K C=0 λ=0.1 MIb=10 ENC_EPOCHS=10 privacy BS=2000\" \\\n",
    "  --name \"ReMINE FINAL50 [PUBLIC PRIVATE LABELS | DUAL ENC TRAIN] REMINE BS=2K ENC_EPOCHS=50 privacy\" \\\n",
    "  --one_shot"
   ]
  },
  {
   "cell_type": "code",
   "execution_count": null,
   "metadata": {
    "colab": {
     "base_uri": "https://localhost:8080/",
     "height": 424
    },
    "id": "4HF_1NhuoAq-",
    "outputId": "e6687665-91a8-437e-b3c9-cbb69a223bc9"
   },
   "outputs": [],
   "source": [
    "experiment_id = \"w0VkQnwwSZ2av6qC5GNn3g\"\n",
    "experiment = tb.data.experimental.ExperimentFromDev(experiment_id)\n",
    "privacy_df = experiment.get_scalars()\n",
    "privacy_df"
   ]
  },
  {
   "cell_type": "code",
   "execution_count": null,
   "metadata": {
    "id": "pUqaWghgecwA"
   },
   "outputs": [],
   "source": [
    "import json\n",
    "\n",
    "with open(\"data/icassp/privacy/remine_privacy50.json\", \"w\") as f:\n",
    "    f.write(privacy_df.to_json(orient=\"records\", lines=True))\n",
    "with open(\"data/icassp/utility/remine_utility50.json\", \"w\") as g:\n",
    "    g.write(utility_df.to_json(orient=\"records\", lines=True))"
   ]
  }
 ],
 "metadata": {
  "accelerator": "GPU",
  "colab": {
   "machine_shape": "hm",
   "provenance": [],
   "toc_visible": true
  },
  "gpuClass": "premium",
  "kernelspec": {
   "display_name": "Python 3",
   "language": "python",
   "name": "python3"
  },
  "language_info": {
   "codemirror_mode": {
    "name": "ipython",
    "version": 3
   },
   "file_extension": ".py",
   "mimetype": "text/x-python",
   "name": "python",
   "nbconvert_exporter": "python",
   "pygments_lexer": "ipython3",
   "version": "3.6.9"
  },
  "widgets": {
   "application/vnd.jupyter.widget-state+json": {
    "09e728a2779a4663a63cfbd20f365c65": {
     "model_module": "@jupyter-widgets/base",
     "model_module_version": "1.2.0",
     "model_name": "LayoutModel",
     "state": {
      "_model_module": "@jupyter-widgets/base",
      "_model_module_version": "1.2.0",
      "_model_name": "LayoutModel",
      "_view_count": null,
      "_view_module": "@jupyter-widgets/base",
      "_view_module_version": "1.2.0",
      "_view_name": "LayoutView",
      "align_content": null,
      "align_items": null,
      "align_self": null,
      "border": null,
      "bottom": null,
      "display": "inline-flex",
      "flex": null,
      "flex_flow": "row wrap",
      "grid_area": null,
      "grid_auto_columns": null,
      "grid_auto_flow": null,
      "grid_auto_rows": null,
      "grid_column": null,
      "grid_gap": null,
      "grid_row": null,
      "grid_template_areas": null,
      "grid_template_columns": null,
      "grid_template_rows": null,
      "height": null,
      "justify_content": null,
      "justify_items": null,
      "left": null,
      "margin": null,
      "max_height": null,
      "max_width": null,
      "min_height": null,
      "min_width": null,
      "object_fit": null,
      "object_position": null,
      "order": null,
      "overflow": null,
      "overflow_x": null,
      "overflow_y": null,
      "padding": null,
      "right": null,
      "top": null,
      "visibility": null,
      "width": "100%"
     }
    },
    "0c05f7349fcd48c6b4559191a9d1b450": {
     "model_module": "@jupyter-widgets/controls",
     "model_module_version": "1.5.0",
     "model_name": "HTMLModel",
     "state": {
      "_dom_classes": [],
      "_model_module": "@jupyter-widgets/controls",
      "_model_module_version": "1.5.0",
      "_model_name": "HTMLModel",
      "_view_count": null,
      "_view_module": "@jupyter-widgets/controls",
      "_view_module_version": "1.5.0",
      "_view_name": "HTMLView",
      "description": "",
      "description_tooltip": null,
      "layout": "IPY_MODEL_4e636e3b674f4bcb97a62deab839c763",
      "placeholder": "​",
      "style": "IPY_MODEL_79656baf2e814253b620d6fd8836de35",
      "value": "Epoch 4999: 100%"
     }
    },
    "0e2647ad06d84406b36497763ae0ed6c": {
     "model_module": "@jupyter-widgets/controls",
     "model_module_version": "1.5.0",
     "model_name": "HTMLModel",
     "state": {
      "_dom_classes": [],
      "_model_module": "@jupyter-widgets/controls",
      "_model_module_version": "1.5.0",
      "_model_name": "HTMLModel",
      "_view_count": null,
      "_view_module": "@jupyter-widgets/controls",
      "_view_module_version": "1.5.0",
      "_view_name": "HTMLView",
      "description": "",
      "description_tooltip": null,
      "layout": "IPY_MODEL_24809e662105463c8d7b04a103923704",
      "placeholder": "​",
      "style": "IPY_MODEL_f49195a2991347b6b4b28e27c693678c",
      "value": " 80/80 [00:00&lt;00:00, 197.94it/s, loss=-4.98, v_num=2000]"
     }
    },
    "15c8c21a43424d6382dc94f2b3750b1e": {
     "model_module": "@jupyter-widgets/controls",
     "model_module_version": "1.5.0",
     "model_name": "ProgressStyleModel",
     "state": {
      "_model_module": "@jupyter-widgets/controls",
      "_model_module_version": "1.5.0",
      "_model_name": "ProgressStyleModel",
      "_view_count": null,
      "_view_module": "@jupyter-widgets/base",
      "_view_module_version": "1.2.0",
      "_view_name": "StyleView",
      "bar_color": null,
      "description_width": ""
     }
    },
    "17bcfa87c3564da397b3fbad2c0d6358": {
     "model_module": "@jupyter-widgets/base",
     "model_module_version": "1.2.0",
     "model_name": "LayoutModel",
     "state": {
      "_model_module": "@jupyter-widgets/base",
      "_model_module_version": "1.2.0",
      "_model_name": "LayoutModel",
      "_view_count": null,
      "_view_module": "@jupyter-widgets/base",
      "_view_module_version": "1.2.0",
      "_view_name": "LayoutView",
      "align_content": null,
      "align_items": null,
      "align_self": null,
      "border": null,
      "bottom": null,
      "display": null,
      "flex": null,
      "flex_flow": null,
      "grid_area": null,
      "grid_auto_columns": null,
      "grid_auto_flow": null,
      "grid_auto_rows": null,
      "grid_column": null,
      "grid_gap": null,
      "grid_row": null,
      "grid_template_areas": null,
      "grid_template_columns": null,
      "grid_template_rows": null,
      "height": null,
      "justify_content": null,
      "justify_items": null,
      "left": null,
      "margin": null,
      "max_height": null,
      "max_width": null,
      "min_height": null,
      "min_width": null,
      "object_fit": null,
      "object_position": null,
      "order": null,
      "overflow": null,
      "overflow_x": null,
      "overflow_y": null,
      "padding": null,
      "right": null,
      "top": null,
      "visibility": null,
      "width": null
     }
    },
    "18e22554ae9342bfade98c9acb3d36bc": {
     "model_module": "@jupyter-widgets/controls",
     "model_module_version": "1.5.0",
     "model_name": "HTMLModel",
     "state": {
      "_dom_classes": [],
      "_model_module": "@jupyter-widgets/controls",
      "_model_module_version": "1.5.0",
      "_model_name": "HTMLModel",
      "_view_count": null,
      "_view_module": "@jupyter-widgets/controls",
      "_view_module_version": "1.5.0",
      "_view_name": "HTMLView",
      "description": "",
      "description_tooltip": null,
      "layout": "IPY_MODEL_48bf9a632f8c46d3bf9577db09d2f145",
      "placeholder": "​",
      "style": "IPY_MODEL_7ab5fab44a084129aee9cfd8993168ba",
      "value": " 4/4 [00:00&lt;00:00, 44.25it/s, loss=-0.524, v_num=2000]"
     }
    },
    "1c58fe64ad69442ca74708077da6f310": {
     "model_module": "@jupyter-widgets/controls",
     "model_module_version": "1.5.0",
     "model_name": "HTMLModel",
     "state": {
      "_dom_classes": [],
      "_model_module": "@jupyter-widgets/controls",
      "_model_module_version": "1.5.0",
      "_model_name": "HTMLModel",
      "_view_count": null,
      "_view_module": "@jupyter-widgets/controls",
      "_view_module_version": "1.5.0",
      "_view_name": "HTMLView",
      "description": "",
      "description_tooltip": null,
      "layout": "IPY_MODEL_6fb8fa2beb4a4712bcf1ecd09ce41ae2",
      "placeholder": "​",
      "style": "IPY_MODEL_ff15a585bae84dcebe7ca88b41815ce7",
      "value": "Epoch 1: 100%"
     }
    },
    "1c72dede7ab5440cb55adfc6b9b5d3da": {
     "model_module": "@jupyter-widgets/base",
     "model_module_version": "1.2.0",
     "model_name": "LayoutModel",
     "state": {
      "_model_module": "@jupyter-widgets/base",
      "_model_module_version": "1.2.0",
      "_model_name": "LayoutModel",
      "_view_count": null,
      "_view_module": "@jupyter-widgets/base",
      "_view_module_version": "1.2.0",
      "_view_name": "LayoutView",
      "align_content": null,
      "align_items": null,
      "align_self": null,
      "border": null,
      "bottom": null,
      "display": null,
      "flex": null,
      "flex_flow": null,
      "grid_area": null,
      "grid_auto_columns": null,
      "grid_auto_flow": null,
      "grid_auto_rows": null,
      "grid_column": null,
      "grid_gap": null,
      "grid_row": null,
      "grid_template_areas": null,
      "grid_template_columns": null,
      "grid_template_rows": null,
      "height": null,
      "justify_content": null,
      "justify_items": null,
      "left": null,
      "margin": null,
      "max_height": null,
      "max_width": null,
      "min_height": null,
      "min_width": null,
      "object_fit": null,
      "object_position": null,
      "order": null,
      "overflow": null,
      "overflow_x": null,
      "overflow_y": null,
      "padding": null,
      "right": null,
      "top": null,
      "visibility": null,
      "width": null
     }
    },
    "1dd97e09c01648c1abdfde7e311f08b8": {
     "model_module": "@jupyter-widgets/base",
     "model_module_version": "1.2.0",
     "model_name": "LayoutModel",
     "state": {
      "_model_module": "@jupyter-widgets/base",
      "_model_module_version": "1.2.0",
      "_model_name": "LayoutModel",
      "_view_count": null,
      "_view_module": "@jupyter-widgets/base",
      "_view_module_version": "1.2.0",
      "_view_name": "LayoutView",
      "align_content": null,
      "align_items": null,
      "align_self": null,
      "border": null,
      "bottom": null,
      "display": null,
      "flex": null,
      "flex_flow": null,
      "grid_area": null,
      "grid_auto_columns": null,
      "grid_auto_flow": null,
      "grid_auto_rows": null,
      "grid_column": null,
      "grid_gap": null,
      "grid_row": null,
      "grid_template_areas": null,
      "grid_template_columns": null,
      "grid_template_rows": null,
      "height": null,
      "justify_content": null,
      "justify_items": null,
      "left": null,
      "margin": null,
      "max_height": null,
      "max_width": null,
      "min_height": null,
      "min_width": null,
      "object_fit": null,
      "object_position": null,
      "order": null,
      "overflow": null,
      "overflow_x": null,
      "overflow_y": null,
      "padding": null,
      "right": null,
      "top": null,
      "visibility": null,
      "width": null
     }
    },
    "24809e662105463c8d7b04a103923704": {
     "model_module": "@jupyter-widgets/base",
     "model_module_version": "1.2.0",
     "model_name": "LayoutModel",
     "state": {
      "_model_module": "@jupyter-widgets/base",
      "_model_module_version": "1.2.0",
      "_model_name": "LayoutModel",
      "_view_count": null,
      "_view_module": "@jupyter-widgets/base",
      "_view_module_version": "1.2.0",
      "_view_name": "LayoutView",
      "align_content": null,
      "align_items": null,
      "align_self": null,
      "border": null,
      "bottom": null,
      "display": null,
      "flex": null,
      "flex_flow": null,
      "grid_area": null,
      "grid_auto_columns": null,
      "grid_auto_flow": null,
      "grid_auto_rows": null,
      "grid_column": null,
      "grid_gap": null,
      "grid_row": null,
      "grid_template_areas": null,
      "grid_template_columns": null,
      "grid_template_rows": null,
      "height": null,
      "justify_content": null,
      "justify_items": null,
      "left": null,
      "margin": null,
      "max_height": null,
      "max_width": null,
      "min_height": null,
      "min_width": null,
      "object_fit": null,
      "object_position": null,
      "order": null,
      "overflow": null,
      "overflow_x": null,
      "overflow_y": null,
      "padding": null,
      "right": null,
      "top": null,
      "visibility": null,
      "width": null
     }
    },
    "26f44bd537ce4432b1926139fb220ca9": {
     "model_module": "@jupyter-widgets/base",
     "model_module_version": "1.2.0",
     "model_name": "LayoutModel",
     "state": {
      "_model_module": "@jupyter-widgets/base",
      "_model_module_version": "1.2.0",
      "_model_name": "LayoutModel",
      "_view_count": null,
      "_view_module": "@jupyter-widgets/base",
      "_view_module_version": "1.2.0",
      "_view_name": "LayoutView",
      "align_content": null,
      "align_items": null,
      "align_self": null,
      "border": null,
      "bottom": null,
      "display": "inline-flex",
      "flex": null,
      "flex_flow": "row wrap",
      "grid_area": null,
      "grid_auto_columns": null,
      "grid_auto_flow": null,
      "grid_auto_rows": null,
      "grid_column": null,
      "grid_gap": null,
      "grid_row": null,
      "grid_template_areas": null,
      "grid_template_columns": null,
      "grid_template_rows": null,
      "height": null,
      "justify_content": null,
      "justify_items": null,
      "left": null,
      "margin": null,
      "max_height": null,
      "max_width": null,
      "min_height": null,
      "min_width": null,
      "object_fit": null,
      "object_position": null,
      "order": null,
      "overflow": null,
      "overflow_x": null,
      "overflow_y": null,
      "padding": null,
      "right": null,
      "top": null,
      "visibility": null,
      "width": "100%"
     }
    },
    "2be526ebc9964cd4b5da245e63e7d044": {
     "model_module": "@jupyter-widgets/base",
     "model_module_version": "1.2.0",
     "model_name": "LayoutModel",
     "state": {
      "_model_module": "@jupyter-widgets/base",
      "_model_module_version": "1.2.0",
      "_model_name": "LayoutModel",
      "_view_count": null,
      "_view_module": "@jupyter-widgets/base",
      "_view_module_version": "1.2.0",
      "_view_name": "LayoutView",
      "align_content": null,
      "align_items": null,
      "align_self": null,
      "border": null,
      "bottom": null,
      "display": null,
      "flex": null,
      "flex_flow": null,
      "grid_area": null,
      "grid_auto_columns": null,
      "grid_auto_flow": null,
      "grid_auto_rows": null,
      "grid_column": null,
      "grid_gap": null,
      "grid_row": null,
      "grid_template_areas": null,
      "grid_template_columns": null,
      "grid_template_rows": null,
      "height": null,
      "justify_content": null,
      "justify_items": null,
      "left": null,
      "margin": null,
      "max_height": null,
      "max_width": null,
      "min_height": null,
      "min_width": null,
      "object_fit": null,
      "object_position": null,
      "order": null,
      "overflow": null,
      "overflow_x": null,
      "overflow_y": null,
      "padding": null,
      "right": null,
      "top": null,
      "visibility": null,
      "width": null
     }
    },
    "3171fc554e5049389f25ff5144377a04": {
     "model_module": "@jupyter-widgets/base",
     "model_module_version": "1.2.0",
     "model_name": "LayoutModel",
     "state": {
      "_model_module": "@jupyter-widgets/base",
      "_model_module_version": "1.2.0",
      "_model_name": "LayoutModel",
      "_view_count": null,
      "_view_module": "@jupyter-widgets/base",
      "_view_module_version": "1.2.0",
      "_view_name": "LayoutView",
      "align_content": null,
      "align_items": null,
      "align_self": null,
      "border": null,
      "bottom": null,
      "display": null,
      "flex": null,
      "flex_flow": null,
      "grid_area": null,
      "grid_auto_columns": null,
      "grid_auto_flow": null,
      "grid_auto_rows": null,
      "grid_column": null,
      "grid_gap": null,
      "grid_row": null,
      "grid_template_areas": null,
      "grid_template_columns": null,
      "grid_template_rows": null,
      "height": null,
      "justify_content": null,
      "justify_items": null,
      "left": null,
      "margin": null,
      "max_height": null,
      "max_width": null,
      "min_height": null,
      "min_width": null,
      "object_fit": null,
      "object_position": null,
      "order": null,
      "overflow": null,
      "overflow_x": null,
      "overflow_y": null,
      "padding": null,
      "right": null,
      "top": null,
      "visibility": null,
      "width": null
     }
    },
    "37dc8cfb59044775bcc5f43265ecab6a": {
     "model_module": "@jupyter-widgets/controls",
     "model_module_version": "1.5.0",
     "model_name": "FloatProgressModel",
     "state": {
      "_dom_classes": [],
      "_model_module": "@jupyter-widgets/controls",
      "_model_module_version": "1.5.0",
      "_model_name": "FloatProgressModel",
      "_view_count": null,
      "_view_module": "@jupyter-widgets/controls",
      "_view_module_version": "1.5.0",
      "_view_name": "ProgressView",
      "bar_style": "success",
      "description": "",
      "description_tooltip": null,
      "layout": "IPY_MODEL_b428b025eecc4ad5b7df901f9fc1e166",
      "max": 80,
      "min": 0,
      "orientation": "horizontal",
      "style": "IPY_MODEL_b4f5ae3e6cfc421da86b80c15873b1ab",
      "value": 80
     }
    },
    "384e4995765b46b5a3981618b02cbdfc": {
     "model_module": "@jupyter-widgets/controls",
     "model_module_version": "1.5.0",
     "model_name": "FloatProgressModel",
     "state": {
      "_dom_classes": [],
      "_model_module": "@jupyter-widgets/controls",
      "_model_module_version": "1.5.0",
      "_model_name": "FloatProgressModel",
      "_view_count": null,
      "_view_module": "@jupyter-widgets/controls",
      "_view_module_version": "1.5.0",
      "_view_name": "ProgressView",
      "bar_style": "success",
      "description": "",
      "description_tooltip": null,
      "layout": "IPY_MODEL_8458ff8da3a24b3cb274d66cfcc08ce2",
      "max": 4,
      "min": 0,
      "orientation": "horizontal",
      "style": "IPY_MODEL_d8cafde09de44260a9c6853f364f77c5",
      "value": 4
     }
    },
    "3a1940510a224bc3b72444d8af0ec5ac": {
     "model_module": "@jupyter-widgets/controls",
     "model_module_version": "1.5.0",
     "model_name": "DescriptionStyleModel",
     "state": {
      "_model_module": "@jupyter-widgets/controls",
      "_model_module_version": "1.5.0",
      "_model_name": "DescriptionStyleModel",
      "_view_count": null,
      "_view_module": "@jupyter-widgets/base",
      "_view_module_version": "1.2.0",
      "_view_name": "StyleView",
      "description_width": ""
     }
    },
    "41a16f5868d543bdaffa29dc162dd5be": {
     "model_module": "@jupyter-widgets/controls",
     "model_module_version": "1.5.0",
     "model_name": "ProgressStyleModel",
     "state": {
      "_model_module": "@jupyter-widgets/controls",
      "_model_module_version": "1.5.0",
      "_model_name": "ProgressStyleModel",
      "_view_count": null,
      "_view_module": "@jupyter-widgets/base",
      "_view_module_version": "1.2.0",
      "_view_name": "StyleView",
      "bar_color": null,
      "description_width": ""
     }
    },
    "48bf9a632f8c46d3bf9577db09d2f145": {
     "model_module": "@jupyter-widgets/base",
     "model_module_version": "1.2.0",
     "model_name": "LayoutModel",
     "state": {
      "_model_module": "@jupyter-widgets/base",
      "_model_module_version": "1.2.0",
      "_model_name": "LayoutModel",
      "_view_count": null,
      "_view_module": "@jupyter-widgets/base",
      "_view_module_version": "1.2.0",
      "_view_name": "LayoutView",
      "align_content": null,
      "align_items": null,
      "align_self": null,
      "border": null,
      "bottom": null,
      "display": null,
      "flex": null,
      "flex_flow": null,
      "grid_area": null,
      "grid_auto_columns": null,
      "grid_auto_flow": null,
      "grid_auto_rows": null,
      "grid_column": null,
      "grid_gap": null,
      "grid_row": null,
      "grid_template_areas": null,
      "grid_template_columns": null,
      "grid_template_rows": null,
      "height": null,
      "justify_content": null,
      "justify_items": null,
      "left": null,
      "margin": null,
      "max_height": null,
      "max_width": null,
      "min_height": null,
      "min_width": null,
      "object_fit": null,
      "object_position": null,
      "order": null,
      "overflow": null,
      "overflow_x": null,
      "overflow_y": null,
      "padding": null,
      "right": null,
      "top": null,
      "visibility": null,
      "width": null
     }
    },
    "4e636e3b674f4bcb97a62deab839c763": {
     "model_module": "@jupyter-widgets/base",
     "model_module_version": "1.2.0",
     "model_name": "LayoutModel",
     "state": {
      "_model_module": "@jupyter-widgets/base",
      "_model_module_version": "1.2.0",
      "_model_name": "LayoutModel",
      "_view_count": null,
      "_view_module": "@jupyter-widgets/base",
      "_view_module_version": "1.2.0",
      "_view_name": "LayoutView",
      "align_content": null,
      "align_items": null,
      "align_self": null,
      "border": null,
      "bottom": null,
      "display": null,
      "flex": null,
      "flex_flow": null,
      "grid_area": null,
      "grid_auto_columns": null,
      "grid_auto_flow": null,
      "grid_auto_rows": null,
      "grid_column": null,
      "grid_gap": null,
      "grid_row": null,
      "grid_template_areas": null,
      "grid_template_columns": null,
      "grid_template_rows": null,
      "height": null,
      "justify_content": null,
      "justify_items": null,
      "left": null,
      "margin": null,
      "max_height": null,
      "max_width": null,
      "min_height": null,
      "min_width": null,
      "object_fit": null,
      "object_position": null,
      "order": null,
      "overflow": null,
      "overflow_x": null,
      "overflow_y": null,
      "padding": null,
      "right": null,
      "top": null,
      "visibility": null,
      "width": null
     }
    },
    "53d4a7a542464790a9115f030df1082e": {
     "model_module": "@jupyter-widgets/base",
     "model_module_version": "1.2.0",
     "model_name": "LayoutModel",
     "state": {
      "_model_module": "@jupyter-widgets/base",
      "_model_module_version": "1.2.0",
      "_model_name": "LayoutModel",
      "_view_count": null,
      "_view_module": "@jupyter-widgets/base",
      "_view_module_version": "1.2.0",
      "_view_name": "LayoutView",
      "align_content": null,
      "align_items": null,
      "align_self": null,
      "border": null,
      "bottom": null,
      "display": null,
      "flex": "2",
      "flex_flow": null,
      "grid_area": null,
      "grid_auto_columns": null,
      "grid_auto_flow": null,
      "grid_auto_rows": null,
      "grid_column": null,
      "grid_gap": null,
      "grid_row": null,
      "grid_template_areas": null,
      "grid_template_columns": null,
      "grid_template_rows": null,
      "height": null,
      "justify_content": null,
      "justify_items": null,
      "left": null,
      "margin": null,
      "max_height": null,
      "max_width": null,
      "min_height": null,
      "min_width": null,
      "object_fit": null,
      "object_position": null,
      "order": null,
      "overflow": null,
      "overflow_x": null,
      "overflow_y": null,
      "padding": null,
      "right": null,
      "top": null,
      "visibility": null,
      "width": null
     }
    },
    "5795a1af42fe4260a6253bfa396d5c39": {
     "model_module": "@jupyter-widgets/base",
     "model_module_version": "1.2.0",
     "model_name": "LayoutModel",
     "state": {
      "_model_module": "@jupyter-widgets/base",
      "_model_module_version": "1.2.0",
      "_model_name": "LayoutModel",
      "_view_count": null,
      "_view_module": "@jupyter-widgets/base",
      "_view_module_version": "1.2.0",
      "_view_name": "LayoutView",
      "align_content": null,
      "align_items": null,
      "align_self": null,
      "border": null,
      "bottom": null,
      "display": "inline-flex",
      "flex": null,
      "flex_flow": "row wrap",
      "grid_area": null,
      "grid_auto_columns": null,
      "grid_auto_flow": null,
      "grid_auto_rows": null,
      "grid_column": null,
      "grid_gap": null,
      "grid_row": null,
      "grid_template_areas": null,
      "grid_template_columns": null,
      "grid_template_rows": null,
      "height": null,
      "justify_content": null,
      "justify_items": null,
      "left": null,
      "margin": null,
      "max_height": null,
      "max_width": null,
      "min_height": null,
      "min_width": null,
      "object_fit": null,
      "object_position": null,
      "order": null,
      "overflow": null,
      "overflow_x": null,
      "overflow_y": null,
      "padding": null,
      "right": null,
      "top": null,
      "visibility": null,
      "width": "100%"
     }
    },
    "5959a19e41044c61b0c56d39111e4df2": {
     "model_module": "@jupyter-widgets/base",
     "model_module_version": "1.2.0",
     "model_name": "LayoutModel",
     "state": {
      "_model_module": "@jupyter-widgets/base",
      "_model_module_version": "1.2.0",
      "_model_name": "LayoutModel",
      "_view_count": null,
      "_view_module": "@jupyter-widgets/base",
      "_view_module_version": "1.2.0",
      "_view_name": "LayoutView",
      "align_content": null,
      "align_items": null,
      "align_self": null,
      "border": null,
      "bottom": null,
      "display": null,
      "flex": null,
      "flex_flow": null,
      "grid_area": null,
      "grid_auto_columns": null,
      "grid_auto_flow": null,
      "grid_auto_rows": null,
      "grid_column": null,
      "grid_gap": null,
      "grid_row": null,
      "grid_template_areas": null,
      "grid_template_columns": null,
      "grid_template_rows": null,
      "height": null,
      "justify_content": null,
      "justify_items": null,
      "left": null,
      "margin": null,
      "max_height": null,
      "max_width": null,
      "min_height": null,
      "min_width": null,
      "object_fit": null,
      "object_position": null,
      "order": null,
      "overflow": null,
      "overflow_x": null,
      "overflow_y": null,
      "padding": null,
      "right": null,
      "top": null,
      "visibility": null,
      "width": null
     }
    },
    "5b204737593c4aafac334a6bedf51699": {
     "model_module": "@jupyter-widgets/controls",
     "model_module_version": "1.5.0",
     "model_name": "FloatProgressModel",
     "state": {
      "_dom_classes": [],
      "_model_module": "@jupyter-widgets/controls",
      "_model_module_version": "1.5.0",
      "_model_name": "FloatProgressModel",
      "_view_count": null,
      "_view_module": "@jupyter-widgets/controls",
      "_view_module_version": "1.5.0",
      "_view_name": "ProgressView",
      "bar_style": "success",
      "description": "",
      "description_tooltip": null,
      "layout": "IPY_MODEL_9e95fb3e954941a29b97f10812b665dc",
      "max": 4,
      "min": 0,
      "orientation": "horizontal",
      "style": "IPY_MODEL_15c8c21a43424d6382dc94f2b3750b1e",
      "value": 4
     }
    },
    "5f18571123414c90af975b143da36c8d": {
     "model_module": "@jupyter-widgets/controls",
     "model_module_version": "1.5.0",
     "model_name": "HTMLModel",
     "state": {
      "_dom_classes": [],
      "_model_module": "@jupyter-widgets/controls",
      "_model_module_version": "1.5.0",
      "_model_name": "HTMLModel",
      "_view_count": null,
      "_view_module": "@jupyter-widgets/controls",
      "_view_module_version": "1.5.0",
      "_view_name": "HTMLView",
      "description": "",
      "description_tooltip": null,
      "layout": "IPY_MODEL_1c72dede7ab5440cb55adfc6b9b5d3da",
      "placeholder": "​",
      "style": "IPY_MODEL_7982d9c3a6c94dd394e9b640d407d220",
      "value": " 4/4 [00:00&lt;00:00, 26.02it/s, loss=0.000886, v_num=2000]"
     }
    },
    "62cdafe120c44f6d800844eaf2009093": {
     "model_module": "@jupyter-widgets/controls",
     "model_module_version": "1.5.0",
     "model_name": "HTMLModel",
     "state": {
      "_dom_classes": [],
      "_model_module": "@jupyter-widgets/controls",
      "_model_module_version": "1.5.0",
      "_model_name": "HTMLModel",
      "_view_count": null,
      "_view_module": "@jupyter-widgets/controls",
      "_view_module_version": "1.5.0",
      "_view_name": "HTMLView",
      "description": "",
      "description_tooltip": null,
      "layout": "IPY_MODEL_1dd97e09c01648c1abdfde7e311f08b8",
      "placeholder": "​",
      "style": "IPY_MODEL_3a1940510a224bc3b72444d8af0ec5ac",
      "value": " 4/4 [00:00&lt;00:00, 23.32it/s, loss=-0.00168, v_num=2000]"
     }
    },
    "6509d0eeb050492e98351a87ff60c674": {
     "model_module": "@jupyter-widgets/controls",
     "model_module_version": "1.5.0",
     "model_name": "FloatProgressModel",
     "state": {
      "_dom_classes": [],
      "_model_module": "@jupyter-widgets/controls",
      "_model_module_version": "1.5.0",
      "_model_name": "FloatProgressModel",
      "_view_count": null,
      "_view_module": "@jupyter-widgets/controls",
      "_view_module_version": "1.5.0",
      "_view_name": "ProgressView",
      "bar_style": "success",
      "description": "",
      "description_tooltip": null,
      "layout": "IPY_MODEL_aaae105d551b42cc88d289aa0dcc4adf",
      "max": 4,
      "min": 0,
      "orientation": "horizontal",
      "style": "IPY_MODEL_c870fa63bca2474abf18b276e60ff6d9",
      "value": 4
     }
    },
    "6be58ad07a7940dab4b56ccc085308f9": {
     "model_module": "@jupyter-widgets/controls",
     "model_module_version": "1.5.0",
     "model_name": "DescriptionStyleModel",
     "state": {
      "_model_module": "@jupyter-widgets/controls",
      "_model_module_version": "1.5.0",
      "_model_name": "DescriptionStyleModel",
      "_view_count": null,
      "_view_module": "@jupyter-widgets/base",
      "_view_module_version": "1.2.0",
      "_view_name": "StyleView",
      "description_width": ""
     }
    },
    "6ee9715b566d46b3b1b3c63b7382ead2": {
     "model_module": "@jupyter-widgets/base",
     "model_module_version": "1.2.0",
     "model_name": "LayoutModel",
     "state": {
      "_model_module": "@jupyter-widgets/base",
      "_model_module_version": "1.2.0",
      "_model_name": "LayoutModel",
      "_view_count": null,
      "_view_module": "@jupyter-widgets/base",
      "_view_module_version": "1.2.0",
      "_view_name": "LayoutView",
      "align_content": null,
      "align_items": null,
      "align_self": null,
      "border": null,
      "bottom": null,
      "display": null,
      "flex": null,
      "flex_flow": null,
      "grid_area": null,
      "grid_auto_columns": null,
      "grid_auto_flow": null,
      "grid_auto_rows": null,
      "grid_column": null,
      "grid_gap": null,
      "grid_row": null,
      "grid_template_areas": null,
      "grid_template_columns": null,
      "grid_template_rows": null,
      "height": null,
      "justify_content": null,
      "justify_items": null,
      "left": null,
      "margin": null,
      "max_height": null,
      "max_width": null,
      "min_height": null,
      "min_width": null,
      "object_fit": null,
      "object_position": null,
      "order": null,
      "overflow": null,
      "overflow_x": null,
      "overflow_y": null,
      "padding": null,
      "right": null,
      "top": null,
      "visibility": null,
      "width": null
     }
    },
    "6fb8fa2beb4a4712bcf1ecd09ce41ae2": {
     "model_module": "@jupyter-widgets/base",
     "model_module_version": "1.2.0",
     "model_name": "LayoutModel",
     "state": {
      "_model_module": "@jupyter-widgets/base",
      "_model_module_version": "1.2.0",
      "_model_name": "LayoutModel",
      "_view_count": null,
      "_view_module": "@jupyter-widgets/base",
      "_view_module_version": "1.2.0",
      "_view_name": "LayoutView",
      "align_content": null,
      "align_items": null,
      "align_self": null,
      "border": null,
      "bottom": null,
      "display": null,
      "flex": null,
      "flex_flow": null,
      "grid_area": null,
      "grid_auto_columns": null,
      "grid_auto_flow": null,
      "grid_auto_rows": null,
      "grid_column": null,
      "grid_gap": null,
      "grid_row": null,
      "grid_template_areas": null,
      "grid_template_columns": null,
      "grid_template_rows": null,
      "height": null,
      "justify_content": null,
      "justify_items": null,
      "left": null,
      "margin": null,
      "max_height": null,
      "max_width": null,
      "min_height": null,
      "min_width": null,
      "object_fit": null,
      "object_position": null,
      "order": null,
      "overflow": null,
      "overflow_x": null,
      "overflow_y": null,
      "padding": null,
      "right": null,
      "top": null,
      "visibility": null,
      "width": null
     }
    },
    "7055247a2e344b5d8d05ee4a1fe46e79": {
     "model_module": "@jupyter-widgets/base",
     "model_module_version": "1.2.0",
     "model_name": "LayoutModel",
     "state": {
      "_model_module": "@jupyter-widgets/base",
      "_model_module_version": "1.2.0",
      "_model_name": "LayoutModel",
      "_view_count": null,
      "_view_module": "@jupyter-widgets/base",
      "_view_module_version": "1.2.0",
      "_view_name": "LayoutView",
      "align_content": null,
      "align_items": null,
      "align_self": null,
      "border": null,
      "bottom": null,
      "display": null,
      "flex": "2",
      "flex_flow": null,
      "grid_area": null,
      "grid_auto_columns": null,
      "grid_auto_flow": null,
      "grid_auto_rows": null,
      "grid_column": null,
      "grid_gap": null,
      "grid_row": null,
      "grid_template_areas": null,
      "grid_template_columns": null,
      "grid_template_rows": null,
      "height": null,
      "justify_content": null,
      "justify_items": null,
      "left": null,
      "margin": null,
      "max_height": null,
      "max_width": null,
      "min_height": null,
      "min_width": null,
      "object_fit": null,
      "object_position": null,
      "order": null,
      "overflow": null,
      "overflow_x": null,
      "overflow_y": null,
      "padding": null,
      "right": null,
      "top": null,
      "visibility": null,
      "width": null
     }
    },
    "78200a874f374a82a3a3b6921e78033a": {
     "model_module": "@jupyter-widgets/controls",
     "model_module_version": "1.5.0",
     "model_name": "DescriptionStyleModel",
     "state": {
      "_model_module": "@jupyter-widgets/controls",
      "_model_module_version": "1.5.0",
      "_model_name": "DescriptionStyleModel",
      "_view_count": null,
      "_view_module": "@jupyter-widgets/base",
      "_view_module_version": "1.2.0",
      "_view_name": "StyleView",
      "description_width": ""
     }
    },
    "79656baf2e814253b620d6fd8836de35": {
     "model_module": "@jupyter-widgets/controls",
     "model_module_version": "1.5.0",
     "model_name": "DescriptionStyleModel",
     "state": {
      "_model_module": "@jupyter-widgets/controls",
      "_model_module_version": "1.5.0",
      "_model_name": "DescriptionStyleModel",
      "_view_count": null,
      "_view_module": "@jupyter-widgets/base",
      "_view_module_version": "1.2.0",
      "_view_name": "StyleView",
      "description_width": ""
     }
    },
    "7982d9c3a6c94dd394e9b640d407d220": {
     "model_module": "@jupyter-widgets/controls",
     "model_module_version": "1.5.0",
     "model_name": "DescriptionStyleModel",
     "state": {
      "_model_module": "@jupyter-widgets/controls",
      "_model_module_version": "1.5.0",
      "_model_name": "DescriptionStyleModel",
      "_view_count": null,
      "_view_module": "@jupyter-widgets/base",
      "_view_module_version": "1.2.0",
      "_view_name": "StyleView",
      "description_width": ""
     }
    },
    "7ab5fab44a084129aee9cfd8993168ba": {
     "model_module": "@jupyter-widgets/controls",
     "model_module_version": "1.5.0",
     "model_name": "DescriptionStyleModel",
     "state": {
      "_model_module": "@jupyter-widgets/controls",
      "_model_module_version": "1.5.0",
      "_model_name": "DescriptionStyleModel",
      "_view_count": null,
      "_view_module": "@jupyter-widgets/base",
      "_view_module_version": "1.2.0",
      "_view_name": "StyleView",
      "description_width": ""
     }
    },
    "7db38d9279d04da981d73c458ca86cba": {
     "model_module": "@jupyter-widgets/controls",
     "model_module_version": "1.5.0",
     "model_name": "HBoxModel",
     "state": {
      "_dom_classes": [],
      "_model_module": "@jupyter-widgets/controls",
      "_model_module_version": "1.5.0",
      "_model_name": "HBoxModel",
      "_view_count": null,
      "_view_module": "@jupyter-widgets/controls",
      "_view_module_version": "1.5.0",
      "_view_name": "HBoxView",
      "box_style": "",
      "children": [
       "IPY_MODEL_1c58fe64ad69442ca74708077da6f310",
       "IPY_MODEL_d4da4e0c1f85444b979daa5e826632e6",
       "IPY_MODEL_62cdafe120c44f6d800844eaf2009093"
      ],
      "layout": "IPY_MODEL_5795a1af42fe4260a6253bfa396d5c39"
     }
    },
    "8274cb0b2853429180c9d5af74dd51f9": {
     "model_module": "@jupyter-widgets/controls",
     "model_module_version": "1.5.0",
     "model_name": "HBoxModel",
     "state": {
      "_dom_classes": [],
      "_model_module": "@jupyter-widgets/controls",
      "_model_module_version": "1.5.0",
      "_model_name": "HBoxModel",
      "_view_count": null,
      "_view_module": "@jupyter-widgets/controls",
      "_view_module_version": "1.5.0",
      "_view_name": "HBoxView",
      "box_style": "",
      "children": [
       "IPY_MODEL_862b6b43e3b24a4c8bea4e002a4846ea",
       "IPY_MODEL_384e4995765b46b5a3981618b02cbdfc",
       "IPY_MODEL_868af4557ab642cba02ddbae2474f398"
      ],
      "layout": "IPY_MODEL_09e728a2779a4663a63cfbd20f365c65"
     }
    },
    "8458ff8da3a24b3cb274d66cfcc08ce2": {
     "model_module": "@jupyter-widgets/base",
     "model_module_version": "1.2.0",
     "model_name": "LayoutModel",
     "state": {
      "_model_module": "@jupyter-widgets/base",
      "_model_module_version": "1.2.0",
      "_model_name": "LayoutModel",
      "_view_count": null,
      "_view_module": "@jupyter-widgets/base",
      "_view_module_version": "1.2.0",
      "_view_name": "LayoutView",
      "align_content": null,
      "align_items": null,
      "align_self": null,
      "border": null,
      "bottom": null,
      "display": null,
      "flex": "2",
      "flex_flow": null,
      "grid_area": null,
      "grid_auto_columns": null,
      "grid_auto_flow": null,
      "grid_auto_rows": null,
      "grid_column": null,
      "grid_gap": null,
      "grid_row": null,
      "grid_template_areas": null,
      "grid_template_columns": null,
      "grid_template_rows": null,
      "height": null,
      "justify_content": null,
      "justify_items": null,
      "left": null,
      "margin": null,
      "max_height": null,
      "max_width": null,
      "min_height": null,
      "min_width": null,
      "object_fit": null,
      "object_position": null,
      "order": null,
      "overflow": null,
      "overflow_x": null,
      "overflow_y": null,
      "padding": null,
      "right": null,
      "top": null,
      "visibility": null,
      "width": null
     }
    },
    "859085d5be84452ca23767279d3b3a69": {
     "model_module": "@jupyter-widgets/base",
     "model_module_version": "1.2.0",
     "model_name": "LayoutModel",
     "state": {
      "_model_module": "@jupyter-widgets/base",
      "_model_module_version": "1.2.0",
      "_model_name": "LayoutModel",
      "_view_count": null,
      "_view_module": "@jupyter-widgets/base",
      "_view_module_version": "1.2.0",
      "_view_name": "LayoutView",
      "align_content": null,
      "align_items": null,
      "align_self": null,
      "border": null,
      "bottom": null,
      "display": null,
      "flex": null,
      "flex_flow": null,
      "grid_area": null,
      "grid_auto_columns": null,
      "grid_auto_flow": null,
      "grid_auto_rows": null,
      "grid_column": null,
      "grid_gap": null,
      "grid_row": null,
      "grid_template_areas": null,
      "grid_template_columns": null,
      "grid_template_rows": null,
      "height": null,
      "justify_content": null,
      "justify_items": null,
      "left": null,
      "margin": null,
      "max_height": null,
      "max_width": null,
      "min_height": null,
      "min_width": null,
      "object_fit": null,
      "object_position": null,
      "order": null,
      "overflow": null,
      "overflow_x": null,
      "overflow_y": null,
      "padding": null,
      "right": null,
      "top": null,
      "visibility": null,
      "width": null
     }
    },
    "862b6b43e3b24a4c8bea4e002a4846ea": {
     "model_module": "@jupyter-widgets/controls",
     "model_module_version": "1.5.0",
     "model_name": "HTMLModel",
     "state": {
      "_dom_classes": [],
      "_model_module": "@jupyter-widgets/controls",
      "_model_module_version": "1.5.0",
      "_model_name": "HTMLModel",
      "_view_count": null,
      "_view_module": "@jupyter-widgets/controls",
      "_view_module_version": "1.5.0",
      "_view_name": "HTMLView",
      "description": "",
      "description_tooltip": null,
      "layout": "IPY_MODEL_d7154191ccbc41ef87afffee656b8207",
      "placeholder": "​",
      "style": "IPY_MODEL_6be58ad07a7940dab4b56ccc085308f9",
      "value": "Epoch 4999: 100%"
     }
    },
    "868af4557ab642cba02ddbae2474f398": {
     "model_module": "@jupyter-widgets/controls",
     "model_module_version": "1.5.0",
     "model_name": "HTMLModel",
     "state": {
      "_dom_classes": [],
      "_model_module": "@jupyter-widgets/controls",
      "_model_module_version": "1.5.0",
      "_model_name": "HTMLModel",
      "_view_count": null,
      "_view_module": "@jupyter-widgets/controls",
      "_view_module_version": "1.5.0",
      "_view_name": "HTMLView",
      "description": "",
      "description_tooltip": null,
      "layout": "IPY_MODEL_6ee9715b566d46b3b1b3c63b7382ead2",
      "placeholder": "​",
      "style": "IPY_MODEL_f9a5f3249d99401d97053df1252955a7",
      "value": " 4/4 [00:00&lt;00:00, 49.38it/s, loss=-0.462, v_num=2000]"
     }
    },
    "888d32e78d82430e9e40adb97bd4ebd6": {
     "model_module": "@jupyter-widgets/controls",
     "model_module_version": "1.5.0",
     "model_name": "HTMLModel",
     "state": {
      "_dom_classes": [],
      "_model_module": "@jupyter-widgets/controls",
      "_model_module_version": "1.5.0",
      "_model_name": "HTMLModel",
      "_view_count": null,
      "_view_module": "@jupyter-widgets/controls",
      "_view_module_version": "1.5.0",
      "_view_name": "HTMLView",
      "description": "",
      "description_tooltip": null,
      "layout": "IPY_MODEL_2be526ebc9964cd4b5da245e63e7d044",
      "placeholder": "​",
      "style": "IPY_MODEL_e974fb95a6314c998bbd154025f7b03a",
      "value": "Epoch 1: 100%"
     }
    },
    "8bcebb7188584d588f287c5a503109ec": {
     "model_module": "@jupyter-widgets/controls",
     "model_module_version": "1.5.0",
     "model_name": "HBoxModel",
     "state": {
      "_dom_classes": [],
      "_model_module": "@jupyter-widgets/controls",
      "_model_module_version": "1.5.0",
      "_model_name": "HBoxModel",
      "_view_count": null,
      "_view_module": "@jupyter-widgets/controls",
      "_view_module_version": "1.5.0",
      "_view_name": "HBoxView",
      "box_style": "",
      "children": [
       "IPY_MODEL_fbfddaa1660946e2b047978967535cce",
       "IPY_MODEL_5b204737593c4aafac334a6bedf51699",
       "IPY_MODEL_5f18571123414c90af975b143da36c8d"
      ],
      "layout": "IPY_MODEL_e1dd31717e2c41248a2113500116389e"
     }
    },
    "9498835ea1cb4a35ab54238a5757ca5a": {
     "model_module": "@jupyter-widgets/controls",
     "model_module_version": "1.5.0",
     "model_name": "HTMLModel",
     "state": {
      "_dom_classes": [],
      "_model_module": "@jupyter-widgets/controls",
      "_model_module_version": "1.5.0",
      "_model_name": "HTMLModel",
      "_view_count": null,
      "_view_module": "@jupyter-widgets/controls",
      "_view_module_version": "1.5.0",
      "_view_name": "HTMLView",
      "description": "",
      "description_tooltip": null,
      "layout": "IPY_MODEL_a3f898dba16842a783a64034e2db9253",
      "placeholder": "​",
      "style": "IPY_MODEL_deab7dddc63e4e339e992c1fdf3aa161",
      "value": " 4/4 [00:00&lt;00:00, 38.60it/s, loss=-0.000493, v_num=2000]"
     }
    },
    "99cd6699fe2c4954989bd743e245b9bf": {
     "model_module": "@jupyter-widgets/controls",
     "model_module_version": "1.5.0",
     "model_name": "HBoxModel",
     "state": {
      "_dom_classes": [],
      "_model_module": "@jupyter-widgets/controls",
      "_model_module_version": "1.5.0",
      "_model_name": "HBoxModel",
      "_view_count": null,
      "_view_module": "@jupyter-widgets/controls",
      "_view_module_version": "1.5.0",
      "_view_name": "HBoxView",
      "box_style": "",
      "children": [
       "IPY_MODEL_0c05f7349fcd48c6b4559191a9d1b450",
       "IPY_MODEL_b8c31874c6bd492b8f46baa45ce9b618",
       "IPY_MODEL_18e22554ae9342bfade98c9acb3d36bc"
      ],
      "layout": "IPY_MODEL_b1e7134a1a52455ba929afe562cd52e8"
     }
    },
    "9bddb942775c4d16ae7734cc08334212": {
     "model_module": "@jupyter-widgets/controls",
     "model_module_version": "1.5.0",
     "model_name": "HTMLModel",
     "state": {
      "_dom_classes": [],
      "_model_module": "@jupyter-widgets/controls",
      "_model_module_version": "1.5.0",
      "_model_name": "HTMLModel",
      "_view_count": null,
      "_view_module": "@jupyter-widgets/controls",
      "_view_module_version": "1.5.0",
      "_view_name": "HTMLView",
      "description": "",
      "description_tooltip": null,
      "layout": "IPY_MODEL_17bcfa87c3564da397b3fbad2c0d6358",
      "placeholder": "​",
      "style": "IPY_MODEL_78200a874f374a82a3a3b6921e78033a",
      "value": "Epoch 1: 100%"
     }
    },
    "9d5c4059457e487680f8758bba8fcbc2": {
     "model_module": "@jupyter-widgets/controls",
     "model_module_version": "1.5.0",
     "model_name": "HBoxModel",
     "state": {
      "_dom_classes": [],
      "_model_module": "@jupyter-widgets/controls",
      "_model_module_version": "1.5.0",
      "_model_name": "HBoxModel",
      "_view_count": null,
      "_view_module": "@jupyter-widgets/controls",
      "_view_module_version": "1.5.0",
      "_view_name": "HBoxView",
      "box_style": "",
      "children": [
       "IPY_MODEL_9bddb942775c4d16ae7734cc08334212",
       "IPY_MODEL_a18d1a6a1993443cb63e3726f5ce3ccd",
       "IPY_MODEL_9498835ea1cb4a35ab54238a5757ca5a"
      ],
      "layout": "IPY_MODEL_26f44bd537ce4432b1926139fb220ca9"
     }
    },
    "9d823ed1b7f049c1aca917e8312fea11": {
     "model_module": "@jupyter-widgets/controls",
     "model_module_version": "1.5.0",
     "model_name": "HBoxModel",
     "state": {
      "_dom_classes": [],
      "_model_module": "@jupyter-widgets/controls",
      "_model_module_version": "1.5.0",
      "_model_name": "HBoxModel",
      "_view_count": null,
      "_view_module": "@jupyter-widgets/controls",
      "_view_module_version": "1.5.0",
      "_view_name": "HBoxView",
      "box_style": "",
      "children": [
       "IPY_MODEL_d091a7542054493b990ae30b6bfad92e",
       "IPY_MODEL_37dc8cfb59044775bcc5f43265ecab6a",
       "IPY_MODEL_0e2647ad06d84406b36497763ae0ed6c"
      ],
      "layout": "IPY_MODEL_bb0539837eda453987be04738614320f"
     }
    },
    "9e08e5432abd4540abfe497a3eb75844": {
     "model_module": "@jupyter-widgets/base",
     "model_module_version": "1.2.0",
     "model_name": "LayoutModel",
     "state": {
      "_model_module": "@jupyter-widgets/base",
      "_model_module_version": "1.2.0",
      "_model_name": "LayoutModel",
      "_view_count": null,
      "_view_module": "@jupyter-widgets/base",
      "_view_module_version": "1.2.0",
      "_view_name": "LayoutView",
      "align_content": null,
      "align_items": null,
      "align_self": null,
      "border": null,
      "bottom": null,
      "display": null,
      "flex": "2",
      "flex_flow": null,
      "grid_area": null,
      "grid_auto_columns": null,
      "grid_auto_flow": null,
      "grid_auto_rows": null,
      "grid_column": null,
      "grid_gap": null,
      "grid_row": null,
      "grid_template_areas": null,
      "grid_template_columns": null,
      "grid_template_rows": null,
      "height": null,
      "justify_content": null,
      "justify_items": null,
      "left": null,
      "margin": null,
      "max_height": null,
      "max_width": null,
      "min_height": null,
      "min_width": null,
      "object_fit": null,
      "object_position": null,
      "order": null,
      "overflow": null,
      "overflow_x": null,
      "overflow_y": null,
      "padding": null,
      "right": null,
      "top": null,
      "visibility": null,
      "width": null
     }
    },
    "9e29745701fd4a4398720ab811e65977": {
     "model_module": "@jupyter-widgets/controls",
     "model_module_version": "1.5.0",
     "model_name": "HTMLModel",
     "state": {
      "_dom_classes": [],
      "_model_module": "@jupyter-widgets/controls",
      "_model_module_version": "1.5.0",
      "_model_name": "HTMLModel",
      "_view_count": null,
      "_view_module": "@jupyter-widgets/controls",
      "_view_module_version": "1.5.0",
      "_view_name": "HTMLView",
      "description": "",
      "description_tooltip": null,
      "layout": "IPY_MODEL_5959a19e41044c61b0c56d39111e4df2",
      "placeholder": "​",
      "style": "IPY_MODEL_e60b2107add043e784409c915656296c",
      "value": " 4/4 [00:00&lt;00:00, 37.11it/s, loss=-0.00461, v_num=2000]"
     }
    },
    "9e95fb3e954941a29b97f10812b665dc": {
     "model_module": "@jupyter-widgets/base",
     "model_module_version": "1.2.0",
     "model_name": "LayoutModel",
     "state": {
      "_model_module": "@jupyter-widgets/base",
      "_model_module_version": "1.2.0",
      "_model_name": "LayoutModel",
      "_view_count": null,
      "_view_module": "@jupyter-widgets/base",
      "_view_module_version": "1.2.0",
      "_view_name": "LayoutView",
      "align_content": null,
      "align_items": null,
      "align_self": null,
      "border": null,
      "bottom": null,
      "display": null,
      "flex": "2",
      "flex_flow": null,
      "grid_area": null,
      "grid_auto_columns": null,
      "grid_auto_flow": null,
      "grid_auto_rows": null,
      "grid_column": null,
      "grid_gap": null,
      "grid_row": null,
      "grid_template_areas": null,
      "grid_template_columns": null,
      "grid_template_rows": null,
      "height": null,
      "justify_content": null,
      "justify_items": null,
      "left": null,
      "margin": null,
      "max_height": null,
      "max_width": null,
      "min_height": null,
      "min_width": null,
      "object_fit": null,
      "object_position": null,
      "order": null,
      "overflow": null,
      "overflow_x": null,
      "overflow_y": null,
      "padding": null,
      "right": null,
      "top": null,
      "visibility": null,
      "width": null
     }
    },
    "a18d1a6a1993443cb63e3726f5ce3ccd": {
     "model_module": "@jupyter-widgets/controls",
     "model_module_version": "1.5.0",
     "model_name": "FloatProgressModel",
     "state": {
      "_dom_classes": [],
      "_model_module": "@jupyter-widgets/controls",
      "_model_module_version": "1.5.0",
      "_model_name": "FloatProgressModel",
      "_view_count": null,
      "_view_module": "@jupyter-widgets/controls",
      "_view_module_version": "1.5.0",
      "_view_name": "ProgressView",
      "bar_style": "success",
      "description": "",
      "description_tooltip": null,
      "layout": "IPY_MODEL_7055247a2e344b5d8d05ee4a1fe46e79",
      "max": 4,
      "min": 0,
      "orientation": "horizontal",
      "style": "IPY_MODEL_41a16f5868d543bdaffa29dc162dd5be",
      "value": 4
     }
    },
    "a3f898dba16842a783a64034e2db9253": {
     "model_module": "@jupyter-widgets/base",
     "model_module_version": "1.2.0",
     "model_name": "LayoutModel",
     "state": {
      "_model_module": "@jupyter-widgets/base",
      "_model_module_version": "1.2.0",
      "_model_name": "LayoutModel",
      "_view_count": null,
      "_view_module": "@jupyter-widgets/base",
      "_view_module_version": "1.2.0",
      "_view_name": "LayoutView",
      "align_content": null,
      "align_items": null,
      "align_self": null,
      "border": null,
      "bottom": null,
      "display": null,
      "flex": null,
      "flex_flow": null,
      "grid_area": null,
      "grid_auto_columns": null,
      "grid_auto_flow": null,
      "grid_auto_rows": null,
      "grid_column": null,
      "grid_gap": null,
      "grid_row": null,
      "grid_template_areas": null,
      "grid_template_columns": null,
      "grid_template_rows": null,
      "height": null,
      "justify_content": null,
      "justify_items": null,
      "left": null,
      "margin": null,
      "max_height": null,
      "max_width": null,
      "min_height": null,
      "min_width": null,
      "object_fit": null,
      "object_position": null,
      "order": null,
      "overflow": null,
      "overflow_x": null,
      "overflow_y": null,
      "padding": null,
      "right": null,
      "top": null,
      "visibility": null,
      "width": null
     }
    },
    "aaae105d551b42cc88d289aa0dcc4adf": {
     "model_module": "@jupyter-widgets/base",
     "model_module_version": "1.2.0",
     "model_name": "LayoutModel",
     "state": {
      "_model_module": "@jupyter-widgets/base",
      "_model_module_version": "1.2.0",
      "_model_name": "LayoutModel",
      "_view_count": null,
      "_view_module": "@jupyter-widgets/base",
      "_view_module_version": "1.2.0",
      "_view_name": "LayoutView",
      "align_content": null,
      "align_items": null,
      "align_self": null,
      "border": null,
      "bottom": null,
      "display": null,
      "flex": "2",
      "flex_flow": null,
      "grid_area": null,
      "grid_auto_columns": null,
      "grid_auto_flow": null,
      "grid_auto_rows": null,
      "grid_column": null,
      "grid_gap": null,
      "grid_row": null,
      "grid_template_areas": null,
      "grid_template_columns": null,
      "grid_template_rows": null,
      "height": null,
      "justify_content": null,
      "justify_items": null,
      "left": null,
      "margin": null,
      "max_height": null,
      "max_width": null,
      "min_height": null,
      "min_width": null,
      "object_fit": null,
      "object_position": null,
      "order": null,
      "overflow": null,
      "overflow_x": null,
      "overflow_y": null,
      "padding": null,
      "right": null,
      "top": null,
      "visibility": null,
      "width": null
     }
    },
    "b1e7134a1a52455ba929afe562cd52e8": {
     "model_module": "@jupyter-widgets/base",
     "model_module_version": "1.2.0",
     "model_name": "LayoutModel",
     "state": {
      "_model_module": "@jupyter-widgets/base",
      "_model_module_version": "1.2.0",
      "_model_name": "LayoutModel",
      "_view_count": null,
      "_view_module": "@jupyter-widgets/base",
      "_view_module_version": "1.2.0",
      "_view_name": "LayoutView",
      "align_content": null,
      "align_items": null,
      "align_self": null,
      "border": null,
      "bottom": null,
      "display": "inline-flex",
      "flex": null,
      "flex_flow": "row wrap",
      "grid_area": null,
      "grid_auto_columns": null,
      "grid_auto_flow": null,
      "grid_auto_rows": null,
      "grid_column": null,
      "grid_gap": null,
      "grid_row": null,
      "grid_template_areas": null,
      "grid_template_columns": null,
      "grid_template_rows": null,
      "height": null,
      "justify_content": null,
      "justify_items": null,
      "left": null,
      "margin": null,
      "max_height": null,
      "max_width": null,
      "min_height": null,
      "min_width": null,
      "object_fit": null,
      "object_position": null,
      "order": null,
      "overflow": null,
      "overflow_x": null,
      "overflow_y": null,
      "padding": null,
      "right": null,
      "top": null,
      "visibility": null,
      "width": "100%"
     }
    },
    "b428b025eecc4ad5b7df901f9fc1e166": {
     "model_module": "@jupyter-widgets/base",
     "model_module_version": "1.2.0",
     "model_name": "LayoutModel",
     "state": {
      "_model_module": "@jupyter-widgets/base",
      "_model_module_version": "1.2.0",
      "_model_name": "LayoutModel",
      "_view_count": null,
      "_view_module": "@jupyter-widgets/base",
      "_view_module_version": "1.2.0",
      "_view_name": "LayoutView",
      "align_content": null,
      "align_items": null,
      "align_self": null,
      "border": null,
      "bottom": null,
      "display": null,
      "flex": "2",
      "flex_flow": null,
      "grid_area": null,
      "grid_auto_columns": null,
      "grid_auto_flow": null,
      "grid_auto_rows": null,
      "grid_column": null,
      "grid_gap": null,
      "grid_row": null,
      "grid_template_areas": null,
      "grid_template_columns": null,
      "grid_template_rows": null,
      "height": null,
      "justify_content": null,
      "justify_items": null,
      "left": null,
      "margin": null,
      "max_height": null,
      "max_width": null,
      "min_height": null,
      "min_width": null,
      "object_fit": null,
      "object_position": null,
      "order": null,
      "overflow": null,
      "overflow_x": null,
      "overflow_y": null,
      "padding": null,
      "right": null,
      "top": null,
      "visibility": null,
      "width": null
     }
    },
    "b4f5ae3e6cfc421da86b80c15873b1ab": {
     "model_module": "@jupyter-widgets/controls",
     "model_module_version": "1.5.0",
     "model_name": "ProgressStyleModel",
     "state": {
      "_model_module": "@jupyter-widgets/controls",
      "_model_module_version": "1.5.0",
      "_model_name": "ProgressStyleModel",
      "_view_count": null,
      "_view_module": "@jupyter-widgets/base",
      "_view_module_version": "1.2.0",
      "_view_name": "StyleView",
      "bar_color": null,
      "description_width": ""
     }
    },
    "b4fd37ee63564c3caaece9f6f9c1a5ad": {
     "model_module": "@jupyter-widgets/controls",
     "model_module_version": "1.5.0",
     "model_name": "DescriptionStyleModel",
     "state": {
      "_model_module": "@jupyter-widgets/controls",
      "_model_module_version": "1.5.0",
      "_model_name": "DescriptionStyleModel",
      "_view_count": null,
      "_view_module": "@jupyter-widgets/base",
      "_view_module_version": "1.2.0",
      "_view_name": "StyleView",
      "description_width": ""
     }
    },
    "b5fb232774e04032b62a2a1876fc64a9": {
     "model_module": "@jupyter-widgets/controls",
     "model_module_version": "1.5.0",
     "model_name": "HBoxModel",
     "state": {
      "_dom_classes": [],
      "_model_module": "@jupyter-widgets/controls",
      "_model_module_version": "1.5.0",
      "_model_name": "HBoxModel",
      "_view_count": null,
      "_view_module": "@jupyter-widgets/controls",
      "_view_module_version": "1.5.0",
      "_view_name": "HBoxView",
      "box_style": "",
      "children": [
       "IPY_MODEL_888d32e78d82430e9e40adb97bd4ebd6",
       "IPY_MODEL_6509d0eeb050492e98351a87ff60c674",
       "IPY_MODEL_9e29745701fd4a4398720ab811e65977"
      ],
      "layout": "IPY_MODEL_e3141051c7ee43e1802a2369f10baad1"
     }
    },
    "b8c31874c6bd492b8f46baa45ce9b618": {
     "model_module": "@jupyter-widgets/controls",
     "model_module_version": "1.5.0",
     "model_name": "FloatProgressModel",
     "state": {
      "_dom_classes": [],
      "_model_module": "@jupyter-widgets/controls",
      "_model_module_version": "1.5.0",
      "_model_name": "FloatProgressModel",
      "_view_count": null,
      "_view_module": "@jupyter-widgets/controls",
      "_view_module_version": "1.5.0",
      "_view_name": "ProgressView",
      "bar_style": "success",
      "description": "",
      "description_tooltip": null,
      "layout": "IPY_MODEL_53d4a7a542464790a9115f030df1082e",
      "max": 4,
      "min": 0,
      "orientation": "horizontal",
      "style": "IPY_MODEL_c869ef7f81bb4a5abaece106ef947597",
      "value": 4
     }
    },
    "bb0539837eda453987be04738614320f": {
     "model_module": "@jupyter-widgets/base",
     "model_module_version": "1.2.0",
     "model_name": "LayoutModel",
     "state": {
      "_model_module": "@jupyter-widgets/base",
      "_model_module_version": "1.2.0",
      "_model_name": "LayoutModel",
      "_view_count": null,
      "_view_module": "@jupyter-widgets/base",
      "_view_module_version": "1.2.0",
      "_view_name": "LayoutView",
      "align_content": null,
      "align_items": null,
      "align_self": null,
      "border": null,
      "bottom": null,
      "display": "inline-flex",
      "flex": null,
      "flex_flow": "row wrap",
      "grid_area": null,
      "grid_auto_columns": null,
      "grid_auto_flow": null,
      "grid_auto_rows": null,
      "grid_column": null,
      "grid_gap": null,
      "grid_row": null,
      "grid_template_areas": null,
      "grid_template_columns": null,
      "grid_template_rows": null,
      "height": null,
      "justify_content": null,
      "justify_items": null,
      "left": null,
      "margin": null,
      "max_height": null,
      "max_width": null,
      "min_height": null,
      "min_width": null,
      "object_fit": null,
      "object_position": null,
      "order": null,
      "overflow": null,
      "overflow_x": null,
      "overflow_y": null,
      "padding": null,
      "right": null,
      "top": null,
      "visibility": null,
      "width": "100%"
     }
    },
    "c869ef7f81bb4a5abaece106ef947597": {
     "model_module": "@jupyter-widgets/controls",
     "model_module_version": "1.5.0",
     "model_name": "ProgressStyleModel",
     "state": {
      "_model_module": "@jupyter-widgets/controls",
      "_model_module_version": "1.5.0",
      "_model_name": "ProgressStyleModel",
      "_view_count": null,
      "_view_module": "@jupyter-widgets/base",
      "_view_module_version": "1.2.0",
      "_view_name": "StyleView",
      "bar_color": null,
      "description_width": ""
     }
    },
    "c870fa63bca2474abf18b276e60ff6d9": {
     "model_module": "@jupyter-widgets/controls",
     "model_module_version": "1.5.0",
     "model_name": "ProgressStyleModel",
     "state": {
      "_model_module": "@jupyter-widgets/controls",
      "_model_module_version": "1.5.0",
      "_model_name": "ProgressStyleModel",
      "_view_count": null,
      "_view_module": "@jupyter-widgets/base",
      "_view_module_version": "1.2.0",
      "_view_name": "StyleView",
      "bar_color": null,
      "description_width": ""
     }
    },
    "d091a7542054493b990ae30b6bfad92e": {
     "model_module": "@jupyter-widgets/controls",
     "model_module_version": "1.5.0",
     "model_name": "HTMLModel",
     "state": {
      "_dom_classes": [],
      "_model_module": "@jupyter-widgets/controls",
      "_model_module_version": "1.5.0",
      "_model_name": "HTMLModel",
      "_view_count": null,
      "_view_module": "@jupyter-widgets/controls",
      "_view_module_version": "1.5.0",
      "_view_name": "HTMLView",
      "description": "",
      "description_tooltip": null,
      "layout": "IPY_MODEL_859085d5be84452ca23767279d3b3a69",
      "placeholder": "​",
      "style": "IPY_MODEL_e761816a941b41f29da6581046746f0c",
      "value": "Epoch 1499: 100%"
     }
    },
    "d4da4e0c1f85444b979daa5e826632e6": {
     "model_module": "@jupyter-widgets/controls",
     "model_module_version": "1.5.0",
     "model_name": "FloatProgressModel",
     "state": {
      "_dom_classes": [],
      "_model_module": "@jupyter-widgets/controls",
      "_model_module_version": "1.5.0",
      "_model_name": "FloatProgressModel",
      "_view_count": null,
      "_view_module": "@jupyter-widgets/controls",
      "_view_module_version": "1.5.0",
      "_view_name": "ProgressView",
      "bar_style": "success",
      "description": "",
      "description_tooltip": null,
      "layout": "IPY_MODEL_9e08e5432abd4540abfe497a3eb75844",
      "max": 4,
      "min": 0,
      "orientation": "horizontal",
      "style": "IPY_MODEL_e18cd9cb9cb646d9ab22ba3a53ea7bec",
      "value": 4
     }
    },
    "d7154191ccbc41ef87afffee656b8207": {
     "model_module": "@jupyter-widgets/base",
     "model_module_version": "1.2.0",
     "model_name": "LayoutModel",
     "state": {
      "_model_module": "@jupyter-widgets/base",
      "_model_module_version": "1.2.0",
      "_model_name": "LayoutModel",
      "_view_count": null,
      "_view_module": "@jupyter-widgets/base",
      "_view_module_version": "1.2.0",
      "_view_name": "LayoutView",
      "align_content": null,
      "align_items": null,
      "align_self": null,
      "border": null,
      "bottom": null,
      "display": null,
      "flex": null,
      "flex_flow": null,
      "grid_area": null,
      "grid_auto_columns": null,
      "grid_auto_flow": null,
      "grid_auto_rows": null,
      "grid_column": null,
      "grid_gap": null,
      "grid_row": null,
      "grid_template_areas": null,
      "grid_template_columns": null,
      "grid_template_rows": null,
      "height": null,
      "justify_content": null,
      "justify_items": null,
      "left": null,
      "margin": null,
      "max_height": null,
      "max_width": null,
      "min_height": null,
      "min_width": null,
      "object_fit": null,
      "object_position": null,
      "order": null,
      "overflow": null,
      "overflow_x": null,
      "overflow_y": null,
      "padding": null,
      "right": null,
      "top": null,
      "visibility": null,
      "width": null
     }
    },
    "d8cafde09de44260a9c6853f364f77c5": {
     "model_module": "@jupyter-widgets/controls",
     "model_module_version": "1.5.0",
     "model_name": "ProgressStyleModel",
     "state": {
      "_model_module": "@jupyter-widgets/controls",
      "_model_module_version": "1.5.0",
      "_model_name": "ProgressStyleModel",
      "_view_count": null,
      "_view_module": "@jupyter-widgets/base",
      "_view_module_version": "1.2.0",
      "_view_name": "StyleView",
      "bar_color": null,
      "description_width": ""
     }
    },
    "deab7dddc63e4e339e992c1fdf3aa161": {
     "model_module": "@jupyter-widgets/controls",
     "model_module_version": "1.5.0",
     "model_name": "DescriptionStyleModel",
     "state": {
      "_model_module": "@jupyter-widgets/controls",
      "_model_module_version": "1.5.0",
      "_model_name": "DescriptionStyleModel",
      "_view_count": null,
      "_view_module": "@jupyter-widgets/base",
      "_view_module_version": "1.2.0",
      "_view_name": "StyleView",
      "description_width": ""
     }
    },
    "e18cd9cb9cb646d9ab22ba3a53ea7bec": {
     "model_module": "@jupyter-widgets/controls",
     "model_module_version": "1.5.0",
     "model_name": "ProgressStyleModel",
     "state": {
      "_model_module": "@jupyter-widgets/controls",
      "_model_module_version": "1.5.0",
      "_model_name": "ProgressStyleModel",
      "_view_count": null,
      "_view_module": "@jupyter-widgets/base",
      "_view_module_version": "1.2.0",
      "_view_name": "StyleView",
      "bar_color": null,
      "description_width": ""
     }
    },
    "e1dd31717e2c41248a2113500116389e": {
     "model_module": "@jupyter-widgets/base",
     "model_module_version": "1.2.0",
     "model_name": "LayoutModel",
     "state": {
      "_model_module": "@jupyter-widgets/base",
      "_model_module_version": "1.2.0",
      "_model_name": "LayoutModel",
      "_view_count": null,
      "_view_module": "@jupyter-widgets/base",
      "_view_module_version": "1.2.0",
      "_view_name": "LayoutView",
      "align_content": null,
      "align_items": null,
      "align_self": null,
      "border": null,
      "bottom": null,
      "display": "inline-flex",
      "flex": null,
      "flex_flow": "row wrap",
      "grid_area": null,
      "grid_auto_columns": null,
      "grid_auto_flow": null,
      "grid_auto_rows": null,
      "grid_column": null,
      "grid_gap": null,
      "grid_row": null,
      "grid_template_areas": null,
      "grid_template_columns": null,
      "grid_template_rows": null,
      "height": null,
      "justify_content": null,
      "justify_items": null,
      "left": null,
      "margin": null,
      "max_height": null,
      "max_width": null,
      "min_height": null,
      "min_width": null,
      "object_fit": null,
      "object_position": null,
      "order": null,
      "overflow": null,
      "overflow_x": null,
      "overflow_y": null,
      "padding": null,
      "right": null,
      "top": null,
      "visibility": null,
      "width": "100%"
     }
    },
    "e3141051c7ee43e1802a2369f10baad1": {
     "model_module": "@jupyter-widgets/base",
     "model_module_version": "1.2.0",
     "model_name": "LayoutModel",
     "state": {
      "_model_module": "@jupyter-widgets/base",
      "_model_module_version": "1.2.0",
      "_model_name": "LayoutModel",
      "_view_count": null,
      "_view_module": "@jupyter-widgets/base",
      "_view_module_version": "1.2.0",
      "_view_name": "LayoutView",
      "align_content": null,
      "align_items": null,
      "align_self": null,
      "border": null,
      "bottom": null,
      "display": "inline-flex",
      "flex": null,
      "flex_flow": "row wrap",
      "grid_area": null,
      "grid_auto_columns": null,
      "grid_auto_flow": null,
      "grid_auto_rows": null,
      "grid_column": null,
      "grid_gap": null,
      "grid_row": null,
      "grid_template_areas": null,
      "grid_template_columns": null,
      "grid_template_rows": null,
      "height": null,
      "justify_content": null,
      "justify_items": null,
      "left": null,
      "margin": null,
      "max_height": null,
      "max_width": null,
      "min_height": null,
      "min_width": null,
      "object_fit": null,
      "object_position": null,
      "order": null,
      "overflow": null,
      "overflow_x": null,
      "overflow_y": null,
      "padding": null,
      "right": null,
      "top": null,
      "visibility": null,
      "width": "100%"
     }
    },
    "e60b2107add043e784409c915656296c": {
     "model_module": "@jupyter-widgets/controls",
     "model_module_version": "1.5.0",
     "model_name": "DescriptionStyleModel",
     "state": {
      "_model_module": "@jupyter-widgets/controls",
      "_model_module_version": "1.5.0",
      "_model_name": "DescriptionStyleModel",
      "_view_count": null,
      "_view_module": "@jupyter-widgets/base",
      "_view_module_version": "1.2.0",
      "_view_name": "StyleView",
      "description_width": ""
     }
    },
    "e761816a941b41f29da6581046746f0c": {
     "model_module": "@jupyter-widgets/controls",
     "model_module_version": "1.5.0",
     "model_name": "DescriptionStyleModel",
     "state": {
      "_model_module": "@jupyter-widgets/controls",
      "_model_module_version": "1.5.0",
      "_model_name": "DescriptionStyleModel",
      "_view_count": null,
      "_view_module": "@jupyter-widgets/base",
      "_view_module_version": "1.2.0",
      "_view_name": "StyleView",
      "description_width": ""
     }
    },
    "e974fb95a6314c998bbd154025f7b03a": {
     "model_module": "@jupyter-widgets/controls",
     "model_module_version": "1.5.0",
     "model_name": "DescriptionStyleModel",
     "state": {
      "_model_module": "@jupyter-widgets/controls",
      "_model_module_version": "1.5.0",
      "_model_name": "DescriptionStyleModel",
      "_view_count": null,
      "_view_module": "@jupyter-widgets/base",
      "_view_module_version": "1.2.0",
      "_view_name": "StyleView",
      "description_width": ""
     }
    },
    "f49195a2991347b6b4b28e27c693678c": {
     "model_module": "@jupyter-widgets/controls",
     "model_module_version": "1.5.0",
     "model_name": "DescriptionStyleModel",
     "state": {
      "_model_module": "@jupyter-widgets/controls",
      "_model_module_version": "1.5.0",
      "_model_name": "DescriptionStyleModel",
      "_view_count": null,
      "_view_module": "@jupyter-widgets/base",
      "_view_module_version": "1.2.0",
      "_view_name": "StyleView",
      "description_width": ""
     }
    },
    "f9a5f3249d99401d97053df1252955a7": {
     "model_module": "@jupyter-widgets/controls",
     "model_module_version": "1.5.0",
     "model_name": "DescriptionStyleModel",
     "state": {
      "_model_module": "@jupyter-widgets/controls",
      "_model_module_version": "1.5.0",
      "_model_name": "DescriptionStyleModel",
      "_view_count": null,
      "_view_module": "@jupyter-widgets/base",
      "_view_module_version": "1.2.0",
      "_view_name": "StyleView",
      "description_width": ""
     }
    },
    "fbfddaa1660946e2b047978967535cce": {
     "model_module": "@jupyter-widgets/controls",
     "model_module_version": "1.5.0",
     "model_name": "HTMLModel",
     "state": {
      "_dom_classes": [],
      "_model_module": "@jupyter-widgets/controls",
      "_model_module_version": "1.5.0",
      "_model_name": "HTMLModel",
      "_view_count": null,
      "_view_module": "@jupyter-widgets/controls",
      "_view_module_version": "1.5.0",
      "_view_name": "HTMLView",
      "description": "",
      "description_tooltip": null,
      "layout": "IPY_MODEL_3171fc554e5049389f25ff5144377a04",
      "placeholder": "​",
      "style": "IPY_MODEL_b4fd37ee63564c3caaece9f6f9c1a5ad",
      "value": "Epoch 1: 100%"
     }
    },
    "ff15a585bae84dcebe7ca88b41815ce7": {
     "model_module": "@jupyter-widgets/controls",
     "model_module_version": "1.5.0",
     "model_name": "DescriptionStyleModel",
     "state": {
      "_model_module": "@jupyter-widgets/controls",
      "_model_module_version": "1.5.0",
      "_model_name": "DescriptionStyleModel",
      "_view_count": null,
      "_view_module": "@jupyter-widgets/base",
      "_view_module_version": "1.2.0",
      "_view_name": "StyleView",
      "description_width": ""
     }
    }
   }
  }
 },
 "nbformat": 4,
 "nbformat_minor": 1
}
